{
 "cells": [
  {
   "cell_type": "code",
   "execution_count": 5,
   "metadata": {},
   "outputs": [],
   "source": [
    "import polars as pl\n",
    "from py_ball import league_dash\n",
    "import requests"
   ]
  },
  {
   "cell_type": "code",
   "execution_count": 39,
   "metadata": {},
   "outputs": [
    {
     "data": {
      "text/html": [
       "<div><style>\n",
       ".dataframe > thead > tr,\n",
       ".dataframe > tbody > tr {\n",
       "  text-align: right;\n",
       "  white-space: pre-wrap;\n",
       "}\n",
       "</style>\n",
       "<small>shape: (5, 16)</small><table border=\"1\" class=\"dataframe\"><thead><tr><th>PLAYER_ID</th><th>PLAYER_NAME</th><th>TEAM_ID</th><th>TEAM_ABBREVIATION</th><th>GP</th><th>W</th><th>L</th><th>MIN</th><th>MIN1</th><th>DIST_FEET</th><th>DIST_MILES</th><th>DIST_MILES_OFF</th><th>DIST_MILES_DEF</th><th>AVG_SPEED</th><th>AVG_SPEED_OFF</th><th>AVG_SPEED_DEF</th></tr><tr><td>i64</td><td>str</td><td>i64</td><td>str</td><td>i64</td><td>i64</td><td>i64</td><td>f64</td><td>f64</td><td>f64</td><td>f64</td><td>f64</td><td>f64</td><td>f64</td><td>f64</td><td>f64</td></tr></thead><tbody><tr><td>1630639</td><td>&quot;A.J. Lawson&quot;</td><td>1610612742</td><td>&quot;DAL&quot;</td><td>41</td><td>26</td><td>15</td><td>7.5</td><td>7.5</td><td>3282.39</td><td>0.62</td><td>0.32</td><td>0.3</td><td>4.62</td><td>4.77</td><td>4.44</td></tr><tr><td>1631260</td><td>&quot;AJ Green&quot;</td><td>1610612749</td><td>&quot;MIL&quot;</td><td>56</td><td>35</td><td>21</td><td>10.97</td><td>10.97</td><td>4523.14</td><td>0.86</td><td>0.45</td><td>0.4</td><td>4.34</td><td>4.72</td><td>3.99</td></tr><tr><td>1631100</td><td>&quot;AJ Griffin&quot;</td><td>1610612737</td><td>&quot;ATL&quot;</td><td>20</td><td>8</td><td>12</td><td>8.54</td><td>8.54</td><td>3705.9</td><td>0.7</td><td>0.37</td><td>0.33</td><td>4.59</td><td>4.77</td><td>4.47</td></tr><tr><td>203932</td><td>&quot;Aaron Gordon&quot;</td><td>1610612743</td><td>&quot;DEN&quot;</td><td>71</td><td>47</td><td>24</td><td>31.61</td><td>31.61</td><td>11871.55</td><td>2.25</td><td>1.19</td><td>1.06</td><td>3.99</td><td>4.15</td><td>3.82</td></tr><tr><td>1628988</td><td>&quot;Aaron Holiday&quot;</td><td>1610612745</td><td>&quot;HOU&quot;</td><td>78</td><td>39</td><td>39</td><td>16.27</td><td>16.27</td><td>6527.67</td><td>1.24</td><td>0.64</td><td>0.59</td><td>4.23</td><td>4.5</td><td>3.97</td></tr></tbody></table></div>"
      ],
      "text/plain": [
       "shape: (5, 16)\n",
       "┌───────────┬───────────┬───────────┬───────────┬───┬───────────┬───────────┬───────────┬──────────┐\n",
       "│ PLAYER_ID ┆ PLAYER_NA ┆ TEAM_ID   ┆ TEAM_ABBR ┆ … ┆ DIST_MILE ┆ AVG_SPEED ┆ AVG_SPEED ┆ AVG_SPEE │\n",
       "│ ---       ┆ ME        ┆ ---       ┆ EVIATION  ┆   ┆ S_DEF     ┆ ---       ┆ _OFF      ┆ D_DEF    │\n",
       "│ i64       ┆ ---       ┆ i64       ┆ ---       ┆   ┆ ---       ┆ f64       ┆ ---       ┆ ---      │\n",
       "│           ┆ str       ┆           ┆ str       ┆   ┆ f64       ┆           ┆ f64       ┆ f64      │\n",
       "╞═══════════╪═══════════╪═══════════╪═══════════╪═══╪═══════════╪═══════════╪═══════════╪══════════╡\n",
       "│ 1630639   ┆ A.J.      ┆ 161061274 ┆ DAL       ┆ … ┆ 0.3       ┆ 4.62      ┆ 4.77      ┆ 4.44     │\n",
       "│           ┆ Lawson    ┆ 2         ┆           ┆   ┆           ┆           ┆           ┆          │\n",
       "│ 1631260   ┆ AJ Green  ┆ 161061274 ┆ MIL       ┆ … ┆ 0.4       ┆ 4.34      ┆ 4.72      ┆ 3.99     │\n",
       "│           ┆           ┆ 9         ┆           ┆   ┆           ┆           ┆           ┆          │\n",
       "│ 1631100   ┆ AJ        ┆ 161061273 ┆ ATL       ┆ … ┆ 0.33      ┆ 4.59      ┆ 4.77      ┆ 4.47     │\n",
       "│           ┆ Griffin   ┆ 7         ┆           ┆   ┆           ┆           ┆           ┆          │\n",
       "│ 203932    ┆ Aaron     ┆ 161061274 ┆ DEN       ┆ … ┆ 1.06      ┆ 3.99      ┆ 4.15      ┆ 3.82     │\n",
       "│           ┆ Gordon    ┆ 3         ┆           ┆   ┆           ┆           ┆           ┆          │\n",
       "│ 1628988   ┆ Aaron     ┆ 161061274 ┆ HOU       ┆ … ┆ 0.59      ┆ 4.23      ┆ 4.5       ┆ 3.97     │\n",
       "│           ┆ Holiday   ┆ 5         ┆           ┆   ┆           ┆           ┆           ┆          │\n",
       "└───────────┴───────────┴───────────┴───────────┴───┴───────────┴───────────┴───────────┴──────────┘"
      ]
     },
     "execution_count": 39,
     "metadata": {},
     "output_type": "execute_result"
    }
   ],
   "source": [
    "from py_ball import league_dash\n",
    "\n",
    "HEADERS = {'Connection': 'keep-alive',\n",
    "           'Host': 'stats.nba.com',\n",
    "           'Origin': 'http://stats.nba.com',\n",
    "           'Upgrade-Insecure-Requests': '1',\n",
    "           'Referer': 'https://stats.nba.com',\n",
    "           'x-nba-stats-origin': 'stats',\n",
    "           'x-nba-stats-token': 'true',\n",
    "           'Accept-Language': 'en-US,en;q=0.5',\n",
    "           \"Accept\": \"application/json, text/plain, */*\",\n",
    "           \"X-NewRelic-ID\": \"VQECWF5UChAHUlNTBwgBVw==\",\n",
    "           'User-Agent': \"Mozilla/5.0 (Macintosh; Intel Mac OS X 10_14_6) \" + \\\n",
    "                         \"AppleWebKit/537.36 (KHTML, like Gecko) \" + \\\n",
    "                         \"Chrome/84.0.4147.89 Safari/537.36\"}\n",
    "\n",
    "\n",
    "league_id = '00'\n",
    "season = '2023-24'  # Updated to the current season\n",
    "season_type = \"Regular Season\"\n",
    "player_or_team = \"Player\"\n",
    "pt_measure_type = \"SpeedDistance\"\n",
    "rank = \"N\"\n",
    "\n",
    "tracking = league_dash.LeagueDash(headers=HEADERS,\n",
    "                                  endpoint='leaguedashptstats',\n",
    "                                  rank=rank,\n",
    "                                  league_id=league_id,\n",
    "                                  season=season,\n",
    "                                  season_type=season_type,\n",
    "                                  player_or_team=player_or_team)\n",
    "\n",
    "tracking_df = pl.DataFrame(tracking.data['LeagueDashPtStats'])\n",
    "tracking_df.head()"
   ]
  },
  {
   "cell_type": "code",
   "execution_count": 109,
   "metadata": {},
   "outputs": [],
   "source": [
    "from py_ball import player, league_dash\n",
    "\n",
    "HEADERS = {'Connection': 'keep-alive',\n",
    "           'Host': 'stats.nba.com',\n",
    "           'Origin': 'http://stats.nba.com',\n",
    "           'Upgrade-Insecure-Requests': '1',\n",
    "           'Referer': 'https://stats.nba.com',\n",
    "           'x-nba-stats-origin': 'stats',\n",
    "           'x-nba-stats-token': 'true',\n",
    "           'Accept-Language': 'en-US,en;q=0.5',\n",
    "           \"Accept\": \"application/json, text/plain, */*\",\n",
    "           \"X-NewRelic-ID\": \"VQECWF5UChAHUlNTBwgBVw==\",\n",
    "           'User-Agent': \"Mozilla/5.0 (Macintosh; Intel Mac OS X 10_14_6) \" + \\\n",
    "                         \"AppleWebKit/537.36 (KHTML, like Gecko) \" + \\\n",
    "                         \"Chrome/84.0.4147.89 Safari/537.36\"}\n",
    "\n",
    "# pd.options.mode.chained_assignment = None  # Disabling pandas SetWithCopyWarnings\n",
    "\n",
    "league_id = '00' #NBA\n",
    "player_id = '0'\n",
    "season = '2024-25'\n",
    "team_id = '1610612744'\n",
    "game_id = \"0022400072\"\n",
    "per_mode = 'Totals'\n",
    "last_n_games = \"0\"\n",
    "period = \"0\"\n",
    "\n",
    "players = player.Player(headers=HEADERS,\n",
    "                        endpoint='playerdashptshots',\n",
    "                        league_id=league_id,\n",
    "                        player_id=player_id,\n",
    "                        season=season,\n",
    "                        team_id=team_id,\n",
    "                        game_id=game_id,\n",
    "                        per_mode=per_mode,\n",
    "                        last_n_games = last_n_games, \n",
    "                        period = period)\n",
    "\n",
    "players.data.keys()\n",
    "defender_dist_df = pl.DataFrame(players.data['ClosestDefenderShooting'])\n",
    "defender_dist_10_df = pl.DataFrame(players.data['ClosestDefender10ftPlusShooting'])\n",
    "shot_clock_df = pl.DataFrame(players.data['ShotClockShooting'])"
   ]
  },
  {
   "cell_type": "code",
   "execution_count": 110,
   "metadata": {},
   "outputs": [
    {
     "data": {
      "text/html": [
       "<div><style>\n",
       ".dataframe > thead > tr,\n",
       ".dataframe > tbody > tr {\n",
       "  text-align: right;\n",
       "  white-space: pre-wrap;\n",
       "}\n",
       "</style>\n",
       "<small>shape: (35, 19)</small><table border=\"1\" class=\"dataframe\"><thead><tr><th>PLAYER_ID</th><th>PLAYER_NAME_LAST_FIRST</th><th>SORT_ORDER</th><th>GP</th><th>G</th><th>CLOSE_DEF_DIST_RANGE</th><th>FGA_FREQUENCY</th><th>FGM</th><th>FGA</th><th>FG_PCT</th><th>EFG_PCT</th><th>FG2A_FREQUENCY</th><th>FG2M</th><th>FG2A</th><th>FG2_PCT</th><th>FG3A_FREQUENCY</th><th>FG3M</th><th>FG3A</th><th>FG3_PCT</th></tr><tr><td>i64</td><td>str</td><td>i64</td><td>i64</td><td>i64</td><td>str</td><td>f64</td><td>i64</td><td>i64</td><td>f64</td><td>f64</td><td>f64</td><td>i64</td><td>i64</td><td>f64</td><td>f64</td><td>i64</td><td>i64</td><td>f64</td></tr></thead><tbody><tr><td>1630228</td><td>&quot;Kuminga, Jonathan&quot;</td><td>1</td><td>1</td><td>1</td><td>&quot;0-2 Feet - Very Tight&quot;</td><td>0.011</td><td>0</td><td>1</td><td>0.0</td><td>0.0</td><td>0.011</td><td>0</td><td>1</td><td>0.0</td><td>0.0</td><td>0</td><td>0</td><td>null</td></tr><tr><td>1627741</td><td>&quot;Hield, Buddy&quot;</td><td>1</td><td>1</td><td>1</td><td>&quot;0-2 Feet - Very Tight&quot;</td><td>0.011</td><td>1</td><td>1</td><td>1.0</td><td>1.0</td><td>0.011</td><td>1</td><td>1</td><td>1.0</td><td>0.0</td><td>0</td><td>0</td><td>null</td></tr><tr><td>201939</td><td>&quot;Curry, Stephen&quot;</td><td>1</td><td>1</td><td>1</td><td>&quot;0-2 Feet - Very Tight&quot;</td><td>0.011</td><td>1</td><td>1</td><td>1.0</td><td>1.0</td><td>0.011</td><td>1</td><td>1</td><td>1.0</td><td>0.0</td><td>0</td><td>0</td><td>null</td></tr><tr><td>203952</td><td>&quot;Wiggins, Andrew&quot;</td><td>1</td><td>1</td><td>1</td><td>&quot;0-2 Feet - Very Tight&quot;</td><td>0.011</td><td>0</td><td>1</td><td>0.0</td><td>0.0</td><td>0.011</td><td>0</td><td>1</td><td>0.0</td><td>0.0</td><td>0</td><td>0</td><td>null</td></tr><tr><td>203952</td><td>&quot;Wiggins, Andrew&quot;</td><td>2</td><td>1</td><td>1</td><td>&quot;2-4 Feet - Tight&quot;</td><td>0.054</td><td>3</td><td>5</td><td>0.6</td><td>0.6</td><td>0.043</td><td>3</td><td>4</td><td>0.75</td><td>0.011</td><td>0</td><td>1</td><td>0.0</td></tr><tr><td>&hellip;</td><td>&hellip;</td><td>&hellip;</td><td>&hellip;</td><td>&hellip;</td><td>&hellip;</td><td>&hellip;</td><td>&hellip;</td><td>&hellip;</td><td>&hellip;</td><td>&hellip;</td><td>&hellip;</td><td>&hellip;</td><td>&hellip;</td><td>&hellip;</td><td>&hellip;</td><td>&hellip;</td><td>&hellip;</td><td>&hellip;</td></tr><tr><td>203952</td><td>&quot;Wiggins, Andrew&quot;</td><td>4</td><td>1</td><td>1</td><td>&quot;6+ Feet - Wide Open&quot;</td><td>0.075</td><td>5</td><td>7</td><td>0.714</td><td>1.0</td><td>0.011</td><td>1</td><td>1</td><td>1.0</td><td>0.065</td><td>4</td><td>6</td><td>0.667</td></tr><tr><td>1629001</td><td>&quot;Melton, De&#x27;Anthony&quot;</td><td>4</td><td>1</td><td>1</td><td>&quot;6+ Feet - Wide Open&quot;</td><td>0.075</td><td>3</td><td>7</td><td>0.429</td><td>0.5</td><td>0.022</td><td>2</td><td>2</td><td>1.0</td><td>0.054</td><td>1</td><td>5</td><td>0.2</td></tr><tr><td>1627741</td><td>&quot;Hield, Buddy&quot;</td><td>4</td><td>1</td><td>1</td><td>&quot;6+ Feet - Wide Open&quot;</td><td>0.043</td><td>3</td><td>4</td><td>0.75</td><td>1.125</td><td>0.0</td><td>0</td><td>0</td><td>null</td><td>0.043</td><td>3</td><td>4</td><td>0.75</td></tr><tr><td>1630322</td><td>&quot;Waters III, Lindy&quot;</td><td>4</td><td>1</td><td>1</td><td>&quot;6+ Feet - Wide Open&quot;</td><td>0.011</td><td>1</td><td>1</td><td>1.0</td><td>1.5</td><td>0.0</td><td>0</td><td>0</td><td>null</td><td>0.011</td><td>1</td><td>1</td><td>1.0</td></tr><tr><td>1630611</td><td>&quot;Santos, Gui&quot;</td><td>4</td><td>1</td><td>1</td><td>&quot;6+ Feet - Wide Open&quot;</td><td>0.011</td><td>1</td><td>1</td><td>1.0</td><td>1.0</td><td>0.011</td><td>1</td><td>1</td><td>1.0</td><td>0.0</td><td>0</td><td>0</td><td>null</td></tr></tbody></table></div>"
      ],
      "text/plain": [
       "shape: (35, 19)\n",
       "┌───────────┬──────────────────────┬────────────┬─────┬───┬────────────────┬──────┬──────┬─────────┐\n",
       "│ PLAYER_ID ┆ PLAYER_NAME_LAST_FIR ┆ SORT_ORDER ┆ GP  ┆ … ┆ FG3A_FREQUENCY ┆ FG3M ┆ FG3A ┆ FG3_PCT │\n",
       "│ ---       ┆ ST                   ┆ ---        ┆ --- ┆   ┆ ---            ┆ ---  ┆ ---  ┆ ---     │\n",
       "│ i64       ┆ ---                  ┆ i64        ┆ i64 ┆   ┆ f64            ┆ i64  ┆ i64  ┆ f64     │\n",
       "│           ┆ str                  ┆            ┆     ┆   ┆                ┆      ┆      ┆         │\n",
       "╞═══════════╪══════════════════════╪════════════╪═════╪═══╪════════════════╪══════╪══════╪═════════╡\n",
       "│ 1630228   ┆ Kuminga, Jonathan    ┆ 1          ┆ 1   ┆ … ┆ 0.0            ┆ 0    ┆ 0    ┆ null    │\n",
       "│ 1627741   ┆ Hield, Buddy         ┆ 1          ┆ 1   ┆ … ┆ 0.0            ┆ 0    ┆ 0    ┆ null    │\n",
       "│ 201939    ┆ Curry, Stephen       ┆ 1          ┆ 1   ┆ … ┆ 0.0            ┆ 0    ┆ 0    ┆ null    │\n",
       "│ 203952    ┆ Wiggins, Andrew      ┆ 1          ┆ 1   ┆ … ┆ 0.0            ┆ 0    ┆ 0    ┆ null    │\n",
       "│ 203952    ┆ Wiggins, Andrew      ┆ 2          ┆ 1   ┆ … ┆ 0.011          ┆ 0    ┆ 1    ┆ 0.0     │\n",
       "│ …         ┆ …                    ┆ …          ┆ …   ┆ … ┆ …              ┆ …    ┆ …    ┆ …       │\n",
       "│ 203952    ┆ Wiggins, Andrew      ┆ 4          ┆ 1   ┆ … ┆ 0.065          ┆ 4    ┆ 6    ┆ 0.667   │\n",
       "│ 1629001   ┆ Melton, De'Anthony   ┆ 4          ┆ 1   ┆ … ┆ 0.054          ┆ 1    ┆ 5    ┆ 0.2     │\n",
       "│ 1627741   ┆ Hield, Buddy         ┆ 4          ┆ 1   ┆ … ┆ 0.043          ┆ 3    ┆ 4    ┆ 0.75    │\n",
       "│ 1630322   ┆ Waters III, Lindy    ┆ 4          ┆ 1   ┆ … ┆ 0.011          ┆ 1    ┆ 1    ┆ 1.0     │\n",
       "│ 1630611   ┆ Santos, Gui          ┆ 4          ┆ 1   ┆ … ┆ 0.0            ┆ 0    ┆ 0    ┆ null    │\n",
       "└───────────┴──────────────────────┴────────────┴─────┴───┴────────────────┴──────┴──────┴─────────┘"
      ]
     },
     "execution_count": 110,
     "metadata": {},
     "output_type": "execute_result"
    }
   ],
   "source": [
    "defender_dist_df"
   ]
  },
  {
   "cell_type": "code",
   "execution_count": 111,
   "metadata": {},
   "outputs": [
    {
     "data": {
      "text/html": [
       "<div><style>\n",
       ".dataframe > thead > tr,\n",
       ".dataframe > tbody > tr {\n",
       "  text-align: right;\n",
       "  white-space: pre-wrap;\n",
       "}\n",
       "</style>\n",
       "<small>shape: (22, 19)</small><table border=\"1\" class=\"dataframe\"><thead><tr><th>PLAYER_ID</th><th>PLAYER_NAME_LAST_FIRST</th><th>SORT_ORDER</th><th>GP</th><th>G</th><th>CLOSE_DEF_DIST_RANGE</th><th>FGA_FREQUENCY</th><th>FGM</th><th>FGA</th><th>FG_PCT</th><th>EFG_PCT</th><th>FG2A_FREQUENCY</th><th>FG2M</th><th>FG2A</th><th>FG2_PCT</th><th>FG3A_FREQUENCY</th><th>FG3M</th><th>FG3A</th><th>FG3_PCT</th></tr><tr><td>i64</td><td>str</td><td>i64</td><td>i64</td><td>i64</td><td>str</td><td>f64</td><td>i64</td><td>i64</td><td>f64</td><td>f64</td><td>f64</td><td>i64</td><td>i64</td><td>f64</td><td>f64</td><td>i64</td><td>i64</td><td>f64</td></tr></thead><tbody><tr><td>1630541</td><td>&quot;Moody, Moses&quot;</td><td>2</td><td>1</td><td>1</td><td>&quot;2-4 Feet - Tight&quot;</td><td>0.022</td><td>0</td><td>2</td><td>0.0</td><td>0.0</td><td>0.011</td><td>0</td><td>1</td><td>0.0</td><td>0.011</td><td>0</td><td>1</td><td>0.0</td></tr><tr><td>1627741</td><td>&quot;Hield, Buddy&quot;</td><td>2</td><td>1</td><td>1</td><td>&quot;2-4 Feet - Tight&quot;</td><td>0.011</td><td>1</td><td>1</td><td>1.0</td><td>1.5</td><td>0.0</td><td>0</td><td>0</td><td>null</td><td>0.011</td><td>1</td><td>1</td><td>1.0</td></tr><tr><td>203110</td><td>&quot;Green, Draymond&quot;</td><td>2</td><td>1</td><td>1</td><td>&quot;2-4 Feet - Tight&quot;</td><td>0.011</td><td>1</td><td>1</td><td>1.0</td><td>1.5</td><td>0.0</td><td>0</td><td>0</td><td>null</td><td>0.011</td><td>1</td><td>1</td><td>1.0</td></tr><tr><td>1630228</td><td>&quot;Kuminga, Jonathan&quot;</td><td>2</td><td>1</td><td>1</td><td>&quot;2-4 Feet - Tight&quot;</td><td>0.011</td><td>0</td><td>1</td><td>0.0</td><td>0.0</td><td>0.011</td><td>0</td><td>1</td><td>0.0</td><td>0.0</td><td>0</td><td>0</td><td>null</td></tr><tr><td>203952</td><td>&quot;Wiggins, Andrew&quot;</td><td>2</td><td>1</td><td>1</td><td>&quot;2-4 Feet - Tight&quot;</td><td>0.011</td><td>0</td><td>1</td><td>0.0</td><td>0.0</td><td>0.0</td><td>0</td><td>0</td><td>null</td><td>0.011</td><td>0</td><td>1</td><td>0.0</td></tr><tr><td>&hellip;</td><td>&hellip;</td><td>&hellip;</td><td>&hellip;</td><td>&hellip;</td><td>&hellip;</td><td>&hellip;</td><td>&hellip;</td><td>&hellip;</td><td>&hellip;</td><td>&hellip;</td><td>&hellip;</td><td>&hellip;</td><td>&hellip;</td><td>&hellip;</td><td>&hellip;</td><td>&hellip;</td><td>&hellip;</td><td>&hellip;</td></tr><tr><td>203952</td><td>&quot;Wiggins, Andrew&quot;</td><td>4</td><td>1</td><td>1</td><td>&quot;6+ Feet - Wide Open&quot;</td><td>0.065</td><td>4</td><td>6</td><td>0.667</td><td>1.0</td><td>0.0</td><td>0</td><td>0</td><td>null</td><td>0.065</td><td>4</td><td>6</td><td>0.667</td></tr><tr><td>1626172</td><td>&quot;Looney, Kevon&quot;</td><td>4</td><td>1</td><td>1</td><td>&quot;6+ Feet - Wide Open&quot;</td><td>0.011</td><td>0</td><td>1</td><td>0.0</td><td>0.0</td><td>0.011</td><td>0</td><td>1</td><td>0.0</td><td>0.0</td><td>0</td><td>0</td><td>null</td></tr><tr><td>203937</td><td>&quot;Anderson, Kyle&quot;</td><td>4</td><td>1</td><td>1</td><td>&quot;6+ Feet - Wide Open&quot;</td><td>0.011</td><td>0</td><td>1</td><td>0.0</td><td>0.0</td><td>0.0</td><td>0</td><td>0</td><td>null</td><td>0.011</td><td>0</td><td>1</td><td>0.0</td></tr><tr><td>1630541</td><td>&quot;Moody, Moses&quot;</td><td>4</td><td>1</td><td>1</td><td>&quot;6+ Feet - Wide Open&quot;</td><td>0.032</td><td>1</td><td>3</td><td>0.333</td><td>0.5</td><td>0.0</td><td>0</td><td>0</td><td>null</td><td>0.032</td><td>1</td><td>3</td><td>0.333</td></tr><tr><td>1627741</td><td>&quot;Hield, Buddy&quot;</td><td>4</td><td>1</td><td>1</td><td>&quot;6+ Feet - Wide Open&quot;</td><td>0.043</td><td>3</td><td>4</td><td>0.75</td><td>1.125</td><td>0.0</td><td>0</td><td>0</td><td>null</td><td>0.043</td><td>3</td><td>4</td><td>0.75</td></tr></tbody></table></div>"
      ],
      "text/plain": [
       "shape: (22, 19)\n",
       "┌───────────┬──────────────────────┬────────────┬─────┬───┬────────────────┬──────┬──────┬─────────┐\n",
       "│ PLAYER_ID ┆ PLAYER_NAME_LAST_FIR ┆ SORT_ORDER ┆ GP  ┆ … ┆ FG3A_FREQUENCY ┆ FG3M ┆ FG3A ┆ FG3_PCT │\n",
       "│ ---       ┆ ST                   ┆ ---        ┆ --- ┆   ┆ ---            ┆ ---  ┆ ---  ┆ ---     │\n",
       "│ i64       ┆ ---                  ┆ i64        ┆ i64 ┆   ┆ f64            ┆ i64  ┆ i64  ┆ f64     │\n",
       "│           ┆ str                  ┆            ┆     ┆   ┆                ┆      ┆      ┆         │\n",
       "╞═══════════╪══════════════════════╪════════════╪═════╪═══╪════════════════╪══════╪══════╪═════════╡\n",
       "│ 1630541   ┆ Moody, Moses         ┆ 2          ┆ 1   ┆ … ┆ 0.011          ┆ 0    ┆ 1    ┆ 0.0     │\n",
       "│ 1627741   ┆ Hield, Buddy         ┆ 2          ┆ 1   ┆ … ┆ 0.011          ┆ 1    ┆ 1    ┆ 1.0     │\n",
       "│ 203110    ┆ Green, Draymond      ┆ 2          ┆ 1   ┆ … ┆ 0.011          ┆ 1    ┆ 1    ┆ 1.0     │\n",
       "│ 1630228   ┆ Kuminga, Jonathan    ┆ 2          ┆ 1   ┆ … ┆ 0.0            ┆ 0    ┆ 0    ┆ null    │\n",
       "│ 203952    ┆ Wiggins, Andrew      ┆ 2          ┆ 1   ┆ … ┆ 0.011          ┆ 0    ┆ 1    ┆ 0.0     │\n",
       "│ …         ┆ …                    ┆ …          ┆ …   ┆ … ┆ …              ┆ …    ┆ …    ┆ …       │\n",
       "│ 203952    ┆ Wiggins, Andrew      ┆ 4          ┆ 1   ┆ … ┆ 0.065          ┆ 4    ┆ 6    ┆ 0.667   │\n",
       "│ 1626172   ┆ Looney, Kevon        ┆ 4          ┆ 1   ┆ … ┆ 0.0            ┆ 0    ┆ 0    ┆ null    │\n",
       "│ 203937    ┆ Anderson, Kyle       ┆ 4          ┆ 1   ┆ … ┆ 0.011          ┆ 0    ┆ 1    ┆ 0.0     │\n",
       "│ 1630541   ┆ Moody, Moses         ┆ 4          ┆ 1   ┆ … ┆ 0.032          ┆ 1    ┆ 3    ┆ 0.333   │\n",
       "│ 1627741   ┆ Hield, Buddy         ┆ 4          ┆ 1   ┆ … ┆ 0.043          ┆ 3    ┆ 4    ┆ 0.75    │\n",
       "└───────────┴──────────────────────┴────────────┴─────┴───┴────────────────┴──────┴──────┴─────────┘"
      ]
     },
     "execution_count": 111,
     "metadata": {},
     "output_type": "execute_result"
    }
   ],
   "source": [
    "defender_dist_10_df"
   ]
  },
  {
   "cell_type": "code",
   "execution_count": 112,
   "metadata": {},
   "outputs": [
    {
     "data": {
      "text/html": [
       "<div><style>\n",
       ".dataframe > thead > tr,\n",
       ".dataframe > tbody > tr {\n",
       "  text-align: right;\n",
       "  white-space: pre-wrap;\n",
       "}\n",
       "</style>\n",
       "<small>shape: (42, 19)</small><table border=\"1\" class=\"dataframe\"><thead><tr><th>PLAYER_ID</th><th>PLAYER_NAME_LAST_FIRST</th><th>SORT_ORDER</th><th>GP</th><th>G</th><th>SHOT_CLOCK_RANGE</th><th>FGA_FREQUENCY</th><th>FGM</th><th>FGA</th><th>FG_PCT</th><th>EFG_PCT</th><th>FG2A_FREQUENCY</th><th>FG2M</th><th>FG2A</th><th>FG2_PCT</th><th>FG3A_FREQUENCY</th><th>FG3M</th><th>FG3A</th><th>FG3_PCT</th></tr><tr><td>i64</td><td>str</td><td>i64</td><td>i64</td><td>i64</td><td>str</td><td>f64</td><td>i64</td><td>i64</td><td>f64</td><td>f64</td><td>f64</td><td>i64</td><td>i64</td><td>f64</td><td>f64</td><td>i64</td><td>i64</td><td>f64</td></tr></thead><tbody><tr><td>203937</td><td>&quot;Anderson, Kyle&quot;</td><td>1</td><td>1</td><td>1</td><td>&quot;24-22&quot;</td><td>0.011</td><td>1</td><td>1</td><td>1.0</td><td>1.0</td><td>0.011</td><td>1</td><td>1</td><td>1.0</td><td>0.0</td><td>0</td><td>0</td><td>null</td></tr><tr><td>1629001</td><td>&quot;Melton, De&#x27;Anthony&quot;</td><td>1</td><td>1</td><td>1</td><td>&quot;24-22&quot;</td><td>0.011</td><td>1</td><td>1</td><td>1.0</td><td>1.0</td><td>0.011</td><td>1</td><td>1</td><td>1.0</td><td>0.0</td><td>0</td><td>0</td><td>null</td></tr><tr><td>203110</td><td>&quot;Green, Draymond&quot;</td><td>2</td><td>1</td><td>1</td><td>&quot;22-18 Very Early&quot;</td><td>0.011</td><td>1</td><td>1</td><td>1.0</td><td>1.0</td><td>0.011</td><td>1</td><td>1</td><td>1.0</td><td>0.0</td><td>0</td><td>0</td><td>null</td></tr><tr><td>1627780</td><td>&quot;Payton II, Gary&quot;</td><td>2</td><td>1</td><td>1</td><td>&quot;22-18 Very Early&quot;</td><td>0.022</td><td>2</td><td>2</td><td>1.0</td><td>1.0</td><td>0.022</td><td>2</td><td>2</td><td>1.0</td><td>0.0</td><td>0</td><td>0</td><td>null</td></tr><tr><td>1629001</td><td>&quot;Melton, De&#x27;Anthony&quot;</td><td>2</td><td>1</td><td>1</td><td>&quot;22-18 Very Early&quot;</td><td>0.011</td><td>1</td><td>1</td><td>1.0</td><td>1.0</td><td>0.011</td><td>1</td><td>1</td><td>1.0</td><td>0.0</td><td>0</td><td>0</td><td>null</td></tr><tr><td>&hellip;</td><td>&hellip;</td><td>&hellip;</td><td>&hellip;</td><td>&hellip;</td><td>&hellip;</td><td>&hellip;</td><td>&hellip;</td><td>&hellip;</td><td>&hellip;</td><td>&hellip;</td><td>&hellip;</td><td>&hellip;</td><td>&hellip;</td><td>&hellip;</td><td>&hellip;</td><td>&hellip;</td><td>&hellip;</td><td>&hellip;</td></tr><tr><td>1641764</td><td>&quot;Podziemski, Brandin&quot;</td><td>6</td><td>1</td><td>1</td><td>&quot;4-0 Very Late&quot;</td><td>0.011</td><td>0</td><td>1</td><td>0.0</td><td>0.0</td><td>0.011</td><td>0</td><td>1</td><td>0.0</td><td>0.0</td><td>0</td><td>0</td><td>null</td></tr><tr><td>1629001</td><td>&quot;Melton, De&#x27;Anthony&quot;</td><td>6</td><td>1</td><td>1</td><td>&quot;4-0 Very Late&quot;</td><td>0.011</td><td>0</td><td>1</td><td>0.0</td><td>0.0</td><td>0.011</td><td>0</td><td>1</td><td>0.0</td><td>0.0</td><td>0</td><td>0</td><td>null</td></tr><tr><td>1630541</td><td>&quot;Moody, Moses&quot;</td><td>6</td><td>1</td><td>1</td><td>&quot;4-0 Very Late&quot;</td><td>0.011</td><td>1</td><td>1</td><td>1.0</td><td>1.0</td><td>0.011</td><td>1</td><td>1</td><td>1.0</td><td>0.0</td><td>0</td><td>0</td><td>null</td></tr><tr><td>203952</td><td>&quot;Wiggins, Andrew&quot;</td><td>6</td><td>1</td><td>1</td><td>&quot;4-0 Very Late&quot;</td><td>0.022</td><td>0</td><td>2</td><td>0.0</td><td>0.0</td><td>0.011</td><td>0</td><td>1</td><td>0.0</td><td>0.011</td><td>0</td><td>1</td><td>0.0</td></tr><tr><td>201939</td><td>&quot;Curry, Stephen&quot;</td><td>6</td><td>1</td><td>1</td><td>&quot;4-0 Very Late&quot;</td><td>0.011</td><td>0</td><td>1</td><td>0.0</td><td>0.0</td><td>0.0</td><td>0</td><td>0</td><td>null</td><td>0.011</td><td>0</td><td>1</td><td>0.0</td></tr></tbody></table></div>"
      ],
      "text/plain": [
       "shape: (42, 19)\n",
       "┌───────────┬──────────────────────┬────────────┬─────┬───┬────────────────┬──────┬──────┬─────────┐\n",
       "│ PLAYER_ID ┆ PLAYER_NAME_LAST_FIR ┆ SORT_ORDER ┆ GP  ┆ … ┆ FG3A_FREQUENCY ┆ FG3M ┆ FG3A ┆ FG3_PCT │\n",
       "│ ---       ┆ ST                   ┆ ---        ┆ --- ┆   ┆ ---            ┆ ---  ┆ ---  ┆ ---     │\n",
       "│ i64       ┆ ---                  ┆ i64        ┆ i64 ┆   ┆ f64            ┆ i64  ┆ i64  ┆ f64     │\n",
       "│           ┆ str                  ┆            ┆     ┆   ┆                ┆      ┆      ┆         │\n",
       "╞═══════════╪══════════════════════╪════════════╪═════╪═══╪════════════════╪══════╪══════╪═════════╡\n",
       "│ 203937    ┆ Anderson, Kyle       ┆ 1          ┆ 1   ┆ … ┆ 0.0            ┆ 0    ┆ 0    ┆ null    │\n",
       "│ 1629001   ┆ Melton, De'Anthony   ┆ 1          ┆ 1   ┆ … ┆ 0.0            ┆ 0    ┆ 0    ┆ null    │\n",
       "│ 203110    ┆ Green, Draymond      ┆ 2          ┆ 1   ┆ … ┆ 0.0            ┆ 0    ┆ 0    ┆ null    │\n",
       "│ 1627780   ┆ Payton II, Gary      ┆ 2          ┆ 1   ┆ … ┆ 0.0            ┆ 0    ┆ 0    ┆ null    │\n",
       "│ 1629001   ┆ Melton, De'Anthony   ┆ 2          ┆ 1   ┆ … ┆ 0.0            ┆ 0    ┆ 0    ┆ null    │\n",
       "│ …         ┆ …                    ┆ …          ┆ …   ┆ … ┆ …              ┆ …    ┆ …    ┆ …       │\n",
       "│ 1641764   ┆ Podziemski, Brandin  ┆ 6          ┆ 1   ┆ … ┆ 0.0            ┆ 0    ┆ 0    ┆ null    │\n",
       "│ 1629001   ┆ Melton, De'Anthony   ┆ 6          ┆ 1   ┆ … ┆ 0.0            ┆ 0    ┆ 0    ┆ null    │\n",
       "│ 1630541   ┆ Moody, Moses         ┆ 6          ┆ 1   ┆ … ┆ 0.0            ┆ 0    ┆ 0    ┆ null    │\n",
       "│ 203952    ┆ Wiggins, Andrew      ┆ 6          ┆ 1   ┆ … ┆ 0.011          ┆ 0    ┆ 1    ┆ 0.0     │\n",
       "│ 201939    ┆ Curry, Stephen       ┆ 6          ┆ 1   ┆ … ┆ 0.011          ┆ 0    ┆ 1    ┆ 0.0     │\n",
       "└───────────┴──────────────────────┴────────────┴─────┴───┴────────────────┴──────┴──────┴─────────┘"
      ]
     },
     "execution_count": 112,
     "metadata": {},
     "output_type": "execute_result"
    }
   ],
   "source": [
    "shot_clock_df"
   ]
  },
  {
   "cell_type": "code",
   "execution_count": 34,
   "metadata": {},
   "outputs": [
    {
     "data": {
      "text/plain": [
       "dict_keys(['Overall', 'GeneralShooting', 'ShotClockShooting', 'DribbleShooting', 'ClosestDefenderShooting', 'ClosestDefender10ftPlusShooting', 'TouchTimeShooting'])"
      ]
     },
     "execution_count": 34,
     "metadata": {},
     "output_type": "execute_result"
    }
   ],
   "source": [
    "players.data.keys()"
   ]
  },
  {
   "cell_type": "code",
   "execution_count": 106,
   "metadata": {},
   "outputs": [
    {
     "data": {
      "text/html": [
       "<div><style>\n",
       ".dataframe > thead > tr,\n",
       ".dataframe > tbody > tr {\n",
       "  text-align: right;\n",
       "  white-space: pre-wrap;\n",
       "}\n",
       "</style>\n",
       "<small>shape: (523, 34)</small><table border=\"1\" class=\"dataframe\"><thead><tr><th>GAME_ID</th><th>EVENTNUM</th><th>EVENTMSGTYPE</th><th>EVENTMSGACTIONTYPE</th><th>PERIOD</th><th>WCTIMESTRING</th><th>PCTIMESTRING</th><th>HOMEDESCRIPTION</th><th>NEUTRALDESCRIPTION</th><th>VISITORDESCRIPTION</th><th>SCORE</th><th>SCOREMARGIN</th><th>PERSON1TYPE</th><th>PLAYER1_ID</th><th>PLAYER1_NAME</th><th>PLAYER1_TEAM_ID</th><th>PLAYER1_TEAM_CITY</th><th>PLAYER1_TEAM_NICKNAME</th><th>PLAYER1_TEAM_ABBREVIATION</th><th>PERSON2TYPE</th><th>PLAYER2_ID</th><th>PLAYER2_NAME</th><th>PLAYER2_TEAM_ID</th><th>PLAYER2_TEAM_CITY</th><th>PLAYER2_TEAM_NICKNAME</th><th>PLAYER2_TEAM_ABBREVIATION</th><th>PERSON3TYPE</th><th>PLAYER3_ID</th><th>PLAYER3_NAME</th><th>PLAYER3_TEAM_ID</th><th>PLAYER3_TEAM_CITY</th><th>PLAYER3_TEAM_NICKNAME</th><th>PLAYER3_TEAM_ABBREVIATION</th><th>VIDEO_AVAILABLE_FLAG</th></tr><tr><td>str</td><td>i64</td><td>i64</td><td>i64</td><td>i64</td><td>str</td><td>str</td><td>str</td><td>str</td><td>str</td><td>str</td><td>str</td><td>i64</td><td>i64</td><td>str</td><td>i64</td><td>str</td><td>str</td><td>str</td><td>i64</td><td>i64</td><td>str</td><td>i64</td><td>str</td><td>str</td><td>str</td><td>i64</td><td>i64</td><td>str</td><td>i64</td><td>str</td><td>str</td><td>str</td><td>i64</td></tr></thead><tbody><tr><td>&quot;0022400072&quot;</td><td>2</td><td>12</td><td>0</td><td>1</td><td>&quot;10:18 PM&quot;</td><td>&quot;12:00&quot;</td><td>null</td><td>&quot;Start of 1st Period (10:18 PM …</td><td>null</td><td>null</td><td>null</td><td>0</td><td>0</td><td>null</td><td>null</td><td>null</td><td>null</td><td>null</td><td>0</td><td>0</td><td>null</td><td>null</td><td>null</td><td>null</td><td>null</td><td>0</td><td>0</td><td>null</td><td>null</td><td>null</td><td>null</td><td>null</td><td>0</td></tr><tr><td>&quot;0022400072&quot;</td><td>4</td><td>10</td><td>0</td><td>1</td><td>&quot;10:18 PM&quot;</td><td>&quot;12:00&quot;</td><td>&quot;Jump Ball Ayton vs. Jackson-Da…</td><td>null</td><td>null</td><td>null</td><td>null</td><td>4</td><td>1629028</td><td>&quot;Deandre Ayton&quot;</td><td>1610612757</td><td>&quot;Portland&quot;</td><td>&quot;Trail Blazers&quot;</td><td>&quot;POR&quot;</td><td>5</td><td>1631218</td><td>&quot;Trayce Jackson-Davis&quot;</td><td>1610612744</td><td>&quot;Golden State&quot;</td><td>&quot;Warriors&quot;</td><td>&quot;GSW&quot;</td><td>4</td><td>203924</td><td>&quot;Jerami Grant&quot;</td><td>1610612757</td><td>&quot;Portland&quot;</td><td>&quot;Trail Blazers&quot;</td><td>&quot;POR&quot;</td><td>1</td></tr><tr><td>&quot;0022400072&quot;</td><td>7</td><td>1</td><td>79</td><td>1</td><td>&quot;10:18 PM&quot;</td><td>&quot;11:43&quot;</td><td>&quot;Grant 20&#x27; Pullup Jump Shot (2 …</td><td>null</td><td>null</td><td>&quot;0 - 2&quot;</td><td>&quot;2&quot;</td><td>4</td><td>203924</td><td>&quot;Jerami Grant&quot;</td><td>1610612757</td><td>&quot;Portland&quot;</td><td>&quot;Trail Blazers&quot;</td><td>&quot;POR&quot;</td><td>4</td><td>1629028</td><td>&quot;Deandre Ayton&quot;</td><td>1610612757</td><td>&quot;Portland&quot;</td><td>&quot;Trail Blazers&quot;</td><td>&quot;POR&quot;</td><td>0</td><td>0</td><td>null</td><td>null</td><td>null</td><td>null</td><td>null</td><td>1</td></tr><tr><td>&quot;0022400072&quot;</td><td>9</td><td>2</td><td>1</td><td>1</td><td>&quot;10:18 PM&quot;</td><td>&quot;11:28&quot;</td><td>null</td><td>null</td><td>&quot;MISS Wiggins 26&#x27; 3PT Jump Shot&quot;</td><td>null</td><td>null</td><td>5</td><td>203952</td><td>&quot;Andrew Wiggins&quot;</td><td>1610612744</td><td>&quot;Golden State&quot;</td><td>&quot;Warriors&quot;</td><td>&quot;GSW&quot;</td><td>0</td><td>0</td><td>null</td><td>null</td><td>null</td><td>null</td><td>null</td><td>0</td><td>0</td><td>null</td><td>null</td><td>null</td><td>null</td><td>null</td><td>1</td></tr><tr><td>&quot;0022400072&quot;</td><td>10</td><td>4</td><td>0</td><td>1</td><td>&quot;10:18 PM&quot;</td><td>&quot;11:26&quot;</td><td>&quot;Avdija REBOUND (Off:0 Def:1)&quot;</td><td>null</td><td>null</td><td>null</td><td>null</td><td>4</td><td>1630166</td><td>&quot;Deni Avdija&quot;</td><td>1610612757</td><td>&quot;Portland&quot;</td><td>&quot;Trail Blazers&quot;</td><td>&quot;POR&quot;</td><td>0</td><td>0</td><td>null</td><td>null</td><td>null</td><td>null</td><td>null</td><td>0</td><td>0</td><td>null</td><td>null</td><td>null</td><td>null</td><td>null</td><td>1</td></tr><tr><td>&hellip;</td><td>&hellip;</td><td>&hellip;</td><td>&hellip;</td><td>&hellip;</td><td>&hellip;</td><td>&hellip;</td><td>&hellip;</td><td>&hellip;</td><td>&hellip;</td><td>&hellip;</td><td>&hellip;</td><td>&hellip;</td><td>&hellip;</td><td>&hellip;</td><td>&hellip;</td><td>&hellip;</td><td>&hellip;</td><td>&hellip;</td><td>&hellip;</td><td>&hellip;</td><td>&hellip;</td><td>&hellip;</td><td>&hellip;</td><td>&hellip;</td><td>&hellip;</td><td>&hellip;</td><td>&hellip;</td><td>&hellip;</td><td>&hellip;</td><td>&hellip;</td><td>&hellip;</td><td>&hellip;</td><td>&hellip;</td></tr><tr><td>&quot;0022400072&quot;</td><td>762</td><td>1</td><td>1</td><td>4</td><td>&quot;12:34 AM&quot;</td><td>&quot;0:24&quot;</td><td>null</td><td>null</td><td>&quot;Waters III 3PT Jump Shot (8 PT…</td><td>&quot;139 - 104&quot;</td><td>&quot;-35&quot;</td><td>5</td><td>1630322</td><td>&quot;Lindy Waters III&quot;</td><td>1610612744</td><td>&quot;Golden State&quot;</td><td>&quot;Warriors&quot;</td><td>&quot;GSW&quot;</td><td>5</td><td>1630541</td><td>&quot;Moses Moody&quot;</td><td>1610612744</td><td>&quot;Golden State&quot;</td><td>&quot;Warriors&quot;</td><td>&quot;GSW&quot;</td><td>0</td><td>0</td><td>null</td><td>null</td><td>null</td><td>null</td><td>null</td><td>1</td></tr><tr><td>&quot;0022400072&quot;</td><td>765</td><td>2</td><td>3</td><td>4</td><td>&quot;12:35 AM&quot;</td><td>&quot;0:16&quot;</td><td>&quot;MISS Reath 5&#x27; Hook Shot&quot;</td><td>null</td><td>null</td><td>null</td><td>null</td><td>4</td><td>1641871</td><td>&quot;Duop Reath&quot;</td><td>1610612757</td><td>&quot;Portland&quot;</td><td>&quot;Trail Blazers&quot;</td><td>&quot;POR&quot;</td><td>0</td><td>0</td><td>null</td><td>null</td><td>null</td><td>null</td><td>null</td><td>0</td><td>0</td><td>null</td><td>null</td><td>null</td><td>null</td><td>null</td><td>1</td></tr><tr><td>&quot;0022400072&quot;</td><td>766</td><td>4</td><td>0</td><td>4</td><td>&quot;12:35 AM&quot;</td><td>&quot;0:14&quot;</td><td>&quot;Reath REBOUND (Off:1 Def:0)&quot;</td><td>null</td><td>null</td><td>null</td><td>null</td><td>4</td><td>1641871</td><td>&quot;Duop Reath&quot;</td><td>1610612757</td><td>&quot;Portland&quot;</td><td>&quot;Trail Blazers&quot;</td><td>&quot;POR&quot;</td><td>0</td><td>0</td><td>null</td><td>null</td><td>null</td><td>null</td><td>null</td><td>0</td><td>0</td><td>null</td><td>null</td><td>null</td><td>null</td><td>null</td><td>1</td></tr><tr><td>&quot;0022400072&quot;</td><td>769</td><td>5</td><td>2</td><td>4</td><td>&quot;12:35 AM&quot;</td><td>&quot;0:13&quot;</td><td>&quot;Reath Lost Ball Turnover (P1.T…</td><td>null</td><td>&quot;Payton II STEAL (2 STL)&quot;</td><td>null</td><td>null</td><td>4</td><td>1641871</td><td>&quot;Duop Reath&quot;</td><td>1610612757</td><td>&quot;Portland&quot;</td><td>&quot;Trail Blazers&quot;</td><td>&quot;POR&quot;</td><td>5</td><td>1627780</td><td>&quot;Gary Payton II&quot;</td><td>1610612744</td><td>&quot;Golden State&quot;</td><td>&quot;Warriors&quot;</td><td>&quot;GSW&quot;</td><td>0</td><td>0</td><td>null</td><td>null</td><td>null</td><td>null</td><td>null</td><td>1</td></tr><tr><td>&quot;0022400072&quot;</td><td>767</td><td>13</td><td>0</td><td>4</td><td>&quot;12:35 AM&quot;</td><td>&quot;0:00&quot;</td><td>null</td><td>&quot;End of 4th Period (12:35 AM ES…</td><td>null</td><td>&quot;139 - 104&quot;</td><td>&quot;-35&quot;</td><td>0</td><td>0</td><td>null</td><td>null</td><td>null</td><td>null</td><td>null</td><td>0</td><td>0</td><td>null</td><td>null</td><td>null</td><td>null</td><td>null</td><td>0</td><td>0</td><td>null</td><td>null</td><td>null</td><td>null</td><td>null</td><td>1</td></tr></tbody></table></div>"
      ],
      "text/plain": [
       "shape: (523, 34)\n",
       "┌───────────┬──────────┬───────────┬───────────┬───┬───────────┬───────────┬───────────┬───────────┐\n",
       "│ GAME_ID   ┆ EVENTNUM ┆ EVENTMSGT ┆ EVENTMSGA ┆ … ┆ PLAYER3_T ┆ PLAYER3_T ┆ PLAYER3_T ┆ VIDEO_AVA │\n",
       "│ ---       ┆ ---      ┆ YPE       ┆ CTIONTYPE ┆   ┆ EAM_CITY  ┆ EAM_NICKN ┆ EAM_ABBRE ┆ ILABLE_FL │\n",
       "│ str       ┆ i64      ┆ ---       ┆ ---       ┆   ┆ ---       ┆ AME       ┆ VIATION   ┆ AG        │\n",
       "│           ┆          ┆ i64       ┆ i64       ┆   ┆ str       ┆ ---       ┆ ---       ┆ ---       │\n",
       "│           ┆          ┆           ┆           ┆   ┆           ┆ str       ┆ str       ┆ i64       │\n",
       "╞═══════════╪══════════╪═══════════╪═══════════╪═══╪═══════════╪═══════════╪═══════════╪═══════════╡\n",
       "│ 002240007 ┆ 2        ┆ 12        ┆ 0         ┆ … ┆ null      ┆ null      ┆ null      ┆ 0         │\n",
       "│ 2         ┆          ┆           ┆           ┆   ┆           ┆           ┆           ┆           │\n",
       "│ 002240007 ┆ 4        ┆ 10        ┆ 0         ┆ … ┆ Portland  ┆ Trail     ┆ POR       ┆ 1         │\n",
       "│ 2         ┆          ┆           ┆           ┆   ┆           ┆ Blazers   ┆           ┆           │\n",
       "│ 002240007 ┆ 7        ┆ 1         ┆ 79        ┆ … ┆ null      ┆ null      ┆ null      ┆ 1         │\n",
       "│ 2         ┆          ┆           ┆           ┆   ┆           ┆           ┆           ┆           │\n",
       "│ 002240007 ┆ 9        ┆ 2         ┆ 1         ┆ … ┆ null      ┆ null      ┆ null      ┆ 1         │\n",
       "│ 2         ┆          ┆           ┆           ┆   ┆           ┆           ┆           ┆           │\n",
       "│ 002240007 ┆ 10       ┆ 4         ┆ 0         ┆ … ┆ null      ┆ null      ┆ null      ┆ 1         │\n",
       "│ 2         ┆          ┆           ┆           ┆   ┆           ┆           ┆           ┆           │\n",
       "│ …         ┆ …        ┆ …         ┆ …         ┆ … ┆ …         ┆ …         ┆ …         ┆ …         │\n",
       "│ 002240007 ┆ 762      ┆ 1         ┆ 1         ┆ … ┆ null      ┆ null      ┆ null      ┆ 1         │\n",
       "│ 2         ┆          ┆           ┆           ┆   ┆           ┆           ┆           ┆           │\n",
       "│ 002240007 ┆ 765      ┆ 2         ┆ 3         ┆ … ┆ null      ┆ null      ┆ null      ┆ 1         │\n",
       "│ 2         ┆          ┆           ┆           ┆   ┆           ┆           ┆           ┆           │\n",
       "│ 002240007 ┆ 766      ┆ 4         ┆ 0         ┆ … ┆ null      ┆ null      ┆ null      ┆ 1         │\n",
       "│ 2         ┆          ┆           ┆           ┆   ┆           ┆           ┆           ┆           │\n",
       "│ 002240007 ┆ 769      ┆ 5         ┆ 2         ┆ … ┆ null      ┆ null      ┆ null      ┆ 1         │\n",
       "│ 2         ┆          ┆           ┆           ┆   ┆           ┆           ┆           ┆           │\n",
       "│ 002240007 ┆ 767      ┆ 13        ┆ 0         ┆ … ┆ null      ┆ null      ┆ null      ┆ 1         │\n",
       "│ 2         ┆          ┆           ┆           ┆   ┆           ┆           ┆           ┆           │\n",
       "└───────────┴──────────┴───────────┴───────────┴───┴───────────┴───────────┴───────────┴───────────┘"
      ]
     },
     "execution_count": 106,
     "metadata": {},
     "output_type": "execute_result"
    }
   ],
   "source": [
    "from py_ball import playbyplay\n",
    "\n",
    "game_id = \"0022400072\"\n",
    "\n",
    "pbp = playbyplay.PlayByPlay(headers=HEADERS,\n",
    "                            endpoint='playbyplayv2',\n",
    "                            game_id=game_id)\n",
    "\n",
    "pbp_df = pl.DataFrame(pbp.data['PlayByPlay'])\n",
    "pbp_df"
   ]
  },
  {
   "cell_type": "code",
   "execution_count": 103,
   "metadata": {},
   "outputs": [],
   "source": [
    "HEADERS = {\n",
    "    'Connection': 'keep-alive',\n",
    "    'Host': 'stats.nba.com',\n",
    "    'Origin': 'https://www.nba.com',\n",
    "    'Referer': 'https://www.nba.com/',\n",
    "    'Accept-Language': 'en-US,en;q=0.9',\n",
    "    \"Accept\": \"application/json, text/plain, */*\",\n",
    "    'User-Agent': \"Mozilla/5.0 (Windows NT 10.0; Win64; x64) AppleWebKit/537.36 (KHTML, like Gecko) Chrome/91.0.4472.124 Safari/537.36\"\n",
    "}\n",
    "\n",
    "def get_shot_chart_data(game_id, player_id=0, team_id=0):\n",
    "    url = \"https://stats.nba.com/stats/shotchartdetail\"\n",
    "    \n",
    "    params = {\n",
    "        'GameID': game_id,\n",
    "        'PlayerID': player_id,\n",
    "        'TeamID': team_id,\n",
    "        'Season': '2024-25',\n",
    "        'SeasonType': 'Regular Season',\n",
    "        'ContextMeasure': 'FGA',\n",
    "        'PlayerPosition': '',\n",
    "        'RookieYear': '',\n",
    "        'ContextFilter': '',\n",
    "        'DateFrom': '',\n",
    "        'DateTo': '',\n",
    "        'GameSegment': '',\n",
    "        'LastNGames': 0,\n",
    "        'LeagueID': '00',\n",
    "        'Location': '',\n",
    "        'Month': 0,\n",
    "        'OpponentTeamID': 0,\n",
    "        'Outcome': '',\n",
    "        'Period': 0,\n",
    "        'Position': '',\n",
    "        'RangeType': 0,\n",
    "        'SeasonSegment': '',\n",
    "        'VsConference': '',\n",
    "        'VsDivision': ''\n",
    "    }\n",
    "    \n",
    "    response = requests.get(url, headers=HEADERS, params=params)\n",
    "    \n",
    "    if response.status_code == 200:\n",
    "        data = response.json()\n",
    "        shot_data = data['resultSets'][0]['rowSet']\n",
    "        columns = data['resultSets'][0]['headers']\n",
    "        \n",
    "        return pl.DataFrame(shot_data, schema=columns)\n",
    "    else:\n",
    "        print(f\"Failed to fetch data. Status code: {response.status_code}\")\n",
    "        return None"
   ]
  },
  {
   "cell_type": "code",
   "execution_count": 101,
   "metadata": {},
   "outputs": [
    {
     "name": "stdout",
     "output_type": "stream",
     "text": [
      "Most recent Warriors game ID: 0022400072\n"
     ]
    },
    {
     "name": "stderr",
     "output_type": "stream",
     "text": [
      "/var/folders/29/ysfdqqh96xd2zvnqnqd_8fm80000gn/T/ipykernel_33908/716554729.py:40: DataOrientationWarning: Row orientation inferred during DataFrame construction. Explicitly specify the orientation by passing `orient=\"row\"` to silence this warning.\n",
      "  pbp_df = pl.DataFrame(pbp_data['resultSets'][0]['rowSet'],\n"
     ]
    }
   ],
   "source": [
    "def get_most_recent_warriors_game_id():\n",
    "    current_date = datetime.now()\n",
    "    \n",
    "    while True:\n",
    "        date_str = current_date.strftime(\"%Y-%m-%d\")\n",
    "        url = f\"https://stats.nba.com/stats/scoreboardv2?DayOffset=0&LeagueID=00&gameDate={date_str}\"\n",
    "        \n",
    "        response = requests.get(url, headers=HEADERS)\n",
    "        if response.status_code == 200:\n",
    "            data = response.json()\n",
    "            games = data['resultSets'][0]['rowSet']\n",
    "            \n",
    "            for game in games:\n",
    "                if '1610612744' in [str(game[6]), str(game[7])]:  # GSW team ID\n",
    "                    return game[2]  # Return GAME_ID\n",
    "        \n",
    "        current_date -= timedelta(days=1)\n",
    "\n",
    "# Get the most recent GSW game ID\n",
    "try:\n",
    "    most_recent_warriors_game_id = get_most_recent_warriors_game_id()\n",
    "    print(f\"Most recent Warriors game ID: {most_recent_warriors_game_id}\")\n",
    "\n",
    "    # Now use this game ID to get the play-by-play data\n",
    "    pbp_url = f\"https://stats.nba.com/stats/playbyplayv2?GameID={most_recent_celtics_game_id}&StartPeriod=0&EndPeriod=14\"\n",
    "    pbp_response = requests.get(pbp_url, headers=HEADERS)\n",
    "    \n",
    "    if pbp_response.status_code == 200:\n",
    "        pbp_data = pbp_response.json()\n",
    "        pbp_df = pl.DataFrame(pbp_data['resultSets'][0]['rowSet'], \n",
    "                              schema=pbp_data['resultSets'][0]['headers'])\n",
    "    else:\n",
    "        print(f\"Failed to fetch play-by-play data. Status code: {pbp_response.status_code}\")\n",
    "\n",
    "except Exception as e:\n",
    "    print(f\"An error occurred: {str(e)}\")"
   ]
  },
  {
   "cell_type": "code",
   "execution_count": 104,
   "metadata": {},
   "outputs": [
    {
     "name": "stdout",
     "output_type": "stream",
     "text": [
      "Total shots: 185\n",
      "Made shots: 84\n",
      "Missed shots: 101\n"
     ]
    },
    {
     "name": "stderr",
     "output_type": "stream",
     "text": [
      "/var/folders/29/ysfdqqh96xd2zvnqnqd_8fm80000gn/T/ipykernel_33908/3842668378.py:48: DataOrientationWarning: Row orientation inferred during DataFrame construction. Explicitly specify the orientation by passing `orient=\"row\"` to silence this warning.\n",
      "  return pl.DataFrame(shot_data, schema=columns)\n"
     ]
    }
   ],
   "source": [
    "game_id = \"0022400072\"\n",
    "player_id = \"0\"\n",
    "team_id = \"0\"  \n",
    "\n",
    "shot_chart_df = get_shot_chart_data(game_id)\n",
    "\n",
    "if shot_chart_df is not None:\n",
    "    print(f\"Total shots: {len(shot_chart_df)}\")\n",
    "    \n",
    "    # Example: Count of made and missed shots\n",
    "    made_shots = shot_chart_df.filter(pl.col('SHOT_MADE_FLAG') == 1).shape[0]\n",
    "    missed_shots = shot_chart_df.filter(pl.col('SHOT_MADE_FLAG') == 0).shape[0]\n",
    "    print(f\"Made shots: {made_shots}\")\n",
    "    print(f\"Missed shots: {missed_shots}\")"
   ]
  },
  {
   "cell_type": "code",
   "execution_count": 105,
   "metadata": {},
   "outputs": [
    {
     "data": {
      "text/html": [
       "<div><style>\n",
       ".dataframe > thead > tr,\n",
       ".dataframe > tbody > tr {\n",
       "  text-align: right;\n",
       "  white-space: pre-wrap;\n",
       "}\n",
       "</style>\n",
       "<small>shape: (185, 24)</small><table border=\"1\" class=\"dataframe\"><thead><tr><th>GRID_TYPE</th><th>GAME_ID</th><th>GAME_EVENT_ID</th><th>PLAYER_ID</th><th>PLAYER_NAME</th><th>TEAM_ID</th><th>TEAM_NAME</th><th>PERIOD</th><th>MINUTES_REMAINING</th><th>SECONDS_REMAINING</th><th>EVENT_TYPE</th><th>ACTION_TYPE</th><th>SHOT_TYPE</th><th>SHOT_ZONE_BASIC</th><th>SHOT_ZONE_AREA</th><th>SHOT_ZONE_RANGE</th><th>SHOT_DISTANCE</th><th>LOC_X</th><th>LOC_Y</th><th>SHOT_ATTEMPTED_FLAG</th><th>SHOT_MADE_FLAG</th><th>GAME_DATE</th><th>HTM</th><th>VTM</th></tr><tr><td>str</td><td>str</td><td>i64</td><td>i64</td><td>str</td><td>i64</td><td>str</td><td>i64</td><td>i64</td><td>i64</td><td>str</td><td>str</td><td>str</td><td>str</td><td>str</td><td>str</td><td>i64</td><td>i64</td><td>i64</td><td>i64</td><td>i64</td><td>str</td><td>str</td><td>str</td></tr></thead><tbody><tr><td>&quot;Shot Chart Detail&quot;</td><td>&quot;0022400072&quot;</td><td>7</td><td>203924</td><td>&quot;Jerami Grant&quot;</td><td>1610612757</td><td>&quot;Portland Trail Blazers&quot;</td><td>1</td><td>11</td><td>43</td><td>&quot;Made Shot&quot;</td><td>&quot;Pullup Jump shot&quot;</td><td>&quot;2PT Field Goal&quot;</td><td>&quot;Mid-Range&quot;</td><td>&quot;Right Side Center(RC)&quot;</td><td>&quot;16-24 ft.&quot;</td><td>20</td><td>132</td><td>153</td><td>1</td><td>1</td><td>&quot;20241023&quot;</td><td>&quot;POR&quot;</td><td>&quot;GSW&quot;</td></tr><tr><td>&quot;Shot Chart Detail&quot;</td><td>&quot;0022400072&quot;</td><td>9</td><td>203952</td><td>&quot;Andrew Wiggins&quot;</td><td>1610612744</td><td>&quot;Golden State Warriors&quot;</td><td>1</td><td>11</td><td>28</td><td>&quot;Missed Shot&quot;</td><td>&quot;Jump Shot&quot;</td><td>&quot;3PT Field Goal&quot;</td><td>&quot;Above the Break 3&quot;</td><td>&quot;Left Side Center(LC)&quot;</td><td>&quot;24+ ft.&quot;</td><td>25</td><td>-201</td><td>159</td><td>1</td><td>0</td><td>&quot;20241023&quot;</td><td>&quot;POR&quot;</td><td>&quot;GSW&quot;</td></tr><tr><td>&quot;Shot Chart Detail&quot;</td><td>&quot;0022400072&quot;</td><td>11</td><td>203924</td><td>&quot;Jerami Grant&quot;</td><td>1610612757</td><td>&quot;Portland Trail Blazers&quot;</td><td>1</td><td>11</td><td>20</td><td>&quot;Missed Shot&quot;</td><td>&quot;Running Jump Shot&quot;</td><td>&quot;3PT Field Goal&quot;</td><td>&quot;Above the Break 3&quot;</td><td>&quot;Right Side Center(RC)&quot;</td><td>&quot;24+ ft.&quot;</td><td>27</td><td>157</td><td>225</td><td>1</td><td>0</td><td>&quot;20241023&quot;</td><td>&quot;POR&quot;</td><td>&quot;GSW&quot;</td></tr><tr><td>&quot;Shot Chart Detail&quot;</td><td>&quot;0022400072&quot;</td><td>13</td><td>1629014</td><td>&quot;Anfernee Simons&quot;</td><td>1610612757</td><td>&quot;Portland Trail Blazers&quot;</td><td>1</td><td>11</td><td>11</td><td>&quot;Missed Shot&quot;</td><td>&quot;Jump Shot&quot;</td><td>&quot;3PT Field Goal&quot;</td><td>&quot;Above the Break 3&quot;</td><td>&quot;Right Side Center(RC)&quot;</td><td>&quot;24+ ft.&quot;</td><td>26</td><td>189</td><td>179</td><td>1</td><td>0</td><td>&quot;20241023&quot;</td><td>&quot;POR&quot;</td><td>&quot;GSW&quot;</td></tr><tr><td>&quot;Shot Chart Detail&quot;</td><td>&quot;0022400072&quot;</td><td>20</td><td>1641739</td><td>&quot;Toumani Camara&quot;</td><td>1610612757</td><td>&quot;Portland Trail Blazers&quot;</td><td>1</td><td>10</td><td>52</td><td>&quot;Made Shot&quot;</td><td>&quot;Jump Shot&quot;</td><td>&quot;3PT Field Goal&quot;</td><td>&quot;Above the Break 3&quot;</td><td>&quot;Left Side Center(LC)&quot;</td><td>&quot;24+ ft.&quot;</td><td>25</td><td>-145</td><td>210</td><td>1</td><td>1</td><td>&quot;20241023&quot;</td><td>&quot;POR&quot;</td><td>&quot;GSW&quot;</td></tr><tr><td>&hellip;</td><td>&hellip;</td><td>&hellip;</td><td>&hellip;</td><td>&hellip;</td><td>&hellip;</td><td>&hellip;</td><td>&hellip;</td><td>&hellip;</td><td>&hellip;</td><td>&hellip;</td><td>&hellip;</td><td>&hellip;</td><td>&hellip;</td><td>&hellip;</td><td>&hellip;</td><td>&hellip;</td><td>&hellip;</td><td>&hellip;</td><td>&hellip;</td><td>&hellip;</td><td>&hellip;</td><td>&hellip;</td><td>&hellip;</td></tr><tr><td>&quot;Shot Chart Detail&quot;</td><td>&quot;0022400072&quot;</td><td>756</td><td>1627780</td><td>&quot;Gary Payton II&quot;</td><td>1610612744</td><td>&quot;Golden State Warriors&quot;</td><td>4</td><td>0</td><td>57</td><td>&quot;Made Shot&quot;</td><td>&quot;Cutting Layup Shot&quot;</td><td>&quot;2PT Field Goal&quot;</td><td>&quot;Restricted Area&quot;</td><td>&quot;Center(C)&quot;</td><td>&quot;Less Than 8 ft.&quot;</td><td>1</td><td>-13</td><td>-5</td><td>1</td><td>1</td><td>&quot;20241023&quot;</td><td>&quot;POR&quot;</td><td>&quot;GSW&quot;</td></tr><tr><td>&quot;Shot Chart Detail&quot;</td><td>&quot;0022400072&quot;</td><td>758</td><td>1630625</td><td>&quot;Dalano Banton&quot;</td><td>1610612757</td><td>&quot;Portland Trail Blazers&quot;</td><td>4</td><td>0</td><td>46</td><td>&quot;Made Shot&quot;</td><td>&quot;Step Back Jump shot&quot;</td><td>&quot;3PT Field Goal&quot;</td><td>&quot;Above the Break 3&quot;</td><td>&quot;Left Side Center(LC)&quot;</td><td>&quot;24+ ft.&quot;</td><td>27</td><td>-165</td><td>216</td><td>1</td><td>1</td><td>&quot;20241023&quot;</td><td>&quot;POR&quot;</td><td>&quot;GSW&quot;</td></tr><tr><td>&quot;Shot Chart Detail&quot;</td><td>&quot;0022400072&quot;</td><td>760</td><td>1630541</td><td>&quot;Moses Moody&quot;</td><td>1610612744</td><td>&quot;Golden State Warriors&quot;</td><td>4</td><td>0</td><td>35</td><td>&quot;Missed Shot&quot;</td><td>&quot;Jump Shot&quot;</td><td>&quot;3PT Field Goal&quot;</td><td>&quot;Above the Break 3&quot;</td><td>&quot;Left Side Center(LC)&quot;</td><td>&quot;24+ ft.&quot;</td><td>27</td><td>-141</td><td>231</td><td>1</td><td>0</td><td>&quot;20241023&quot;</td><td>&quot;POR&quot;</td><td>&quot;GSW&quot;</td></tr><tr><td>&quot;Shot Chart Detail&quot;</td><td>&quot;0022400072&quot;</td><td>762</td><td>1630322</td><td>&quot;Lindy Waters III&quot;</td><td>1610612744</td><td>&quot;Golden State Warriors&quot;</td><td>4</td><td>0</td><td>24</td><td>&quot;Made Shot&quot;</td><td>&quot;Jump Shot&quot;</td><td>&quot;3PT Field Goal&quot;</td><td>&quot;Left Corner 3&quot;</td><td>&quot;Left Side(L)&quot;</td><td>&quot;24+ ft.&quot;</td><td>22</td><td>-227</td><td>-6</td><td>1</td><td>1</td><td>&quot;20241023&quot;</td><td>&quot;POR&quot;</td><td>&quot;GSW&quot;</td></tr><tr><td>&quot;Shot Chart Detail&quot;</td><td>&quot;0022400072&quot;</td><td>765</td><td>1641871</td><td>&quot;Duop Reath&quot;</td><td>1610612757</td><td>&quot;Portland Trail Blazers&quot;</td><td>4</td><td>0</td><td>16</td><td>&quot;Missed Shot&quot;</td><td>&quot;Hook Shot&quot;</td><td>&quot;2PT Field Goal&quot;</td><td>&quot;In The Paint (Non-RA)&quot;</td><td>&quot;Center(C)&quot;</td><td>&quot;Less Than 8 ft.&quot;</td><td>5</td><td>-11</td><td>52</td><td>1</td><td>0</td><td>&quot;20241023&quot;</td><td>&quot;POR&quot;</td><td>&quot;GSW&quot;</td></tr></tbody></table></div>"
      ],
      "text/plain": [
       "shape: (185, 24)\n",
       "┌───────────────┬────────────┬──────────────┬───────────┬───┬──────────────┬───────────┬─────┬─────┐\n",
       "│ GRID_TYPE     ┆ GAME_ID    ┆ GAME_EVENT_I ┆ PLAYER_ID ┆ … ┆ SHOT_MADE_FL ┆ GAME_DATE ┆ HTM ┆ VTM │\n",
       "│ ---           ┆ ---        ┆ D            ┆ ---       ┆   ┆ AG           ┆ ---       ┆ --- ┆ --- │\n",
       "│ str           ┆ str        ┆ ---          ┆ i64       ┆   ┆ ---          ┆ str       ┆ str ┆ str │\n",
       "│               ┆            ┆ i64          ┆           ┆   ┆ i64          ┆           ┆     ┆     │\n",
       "╞═══════════════╪════════════╪══════════════╪═══════════╪═══╪══════════════╪═══════════╪═════╪═════╡\n",
       "│ Shot Chart    ┆ 0022400072 ┆ 7            ┆ 203924    ┆ … ┆ 1            ┆ 20241023  ┆ POR ┆ GSW │\n",
       "│ Detail        ┆            ┆              ┆           ┆   ┆              ┆           ┆     ┆     │\n",
       "│ Shot Chart    ┆ 0022400072 ┆ 9            ┆ 203952    ┆ … ┆ 0            ┆ 20241023  ┆ POR ┆ GSW │\n",
       "│ Detail        ┆            ┆              ┆           ┆   ┆              ┆           ┆     ┆     │\n",
       "│ Shot Chart    ┆ 0022400072 ┆ 11           ┆ 203924    ┆ … ┆ 0            ┆ 20241023  ┆ POR ┆ GSW │\n",
       "│ Detail        ┆            ┆              ┆           ┆   ┆              ┆           ┆     ┆     │\n",
       "│ Shot Chart    ┆ 0022400072 ┆ 13           ┆ 1629014   ┆ … ┆ 0            ┆ 20241023  ┆ POR ┆ GSW │\n",
       "│ Detail        ┆            ┆              ┆           ┆   ┆              ┆           ┆     ┆     │\n",
       "│ Shot Chart    ┆ 0022400072 ┆ 20           ┆ 1641739   ┆ … ┆ 1            ┆ 20241023  ┆ POR ┆ GSW │\n",
       "│ Detail        ┆            ┆              ┆           ┆   ┆              ┆           ┆     ┆     │\n",
       "│ …             ┆ …          ┆ …            ┆ …         ┆ … ┆ …            ┆ …         ┆ …   ┆ …   │\n",
       "│ Shot Chart    ┆ 0022400072 ┆ 756          ┆ 1627780   ┆ … ┆ 1            ┆ 20241023  ┆ POR ┆ GSW │\n",
       "│ Detail        ┆            ┆              ┆           ┆   ┆              ┆           ┆     ┆     │\n",
       "│ Shot Chart    ┆ 0022400072 ┆ 758          ┆ 1630625   ┆ … ┆ 1            ┆ 20241023  ┆ POR ┆ GSW │\n",
       "│ Detail        ┆            ┆              ┆           ┆   ┆              ┆           ┆     ┆     │\n",
       "│ Shot Chart    ┆ 0022400072 ┆ 760          ┆ 1630541   ┆ … ┆ 0            ┆ 20241023  ┆ POR ┆ GSW │\n",
       "│ Detail        ┆            ┆              ┆           ┆   ┆              ┆           ┆     ┆     │\n",
       "│ Shot Chart    ┆ 0022400072 ┆ 762          ┆ 1630322   ┆ … ┆ 1            ┆ 20241023  ┆ POR ┆ GSW │\n",
       "│ Detail        ┆            ┆              ┆           ┆   ┆              ┆           ┆     ┆     │\n",
       "│ Shot Chart    ┆ 0022400072 ┆ 765          ┆ 1641871   ┆ … ┆ 0            ┆ 20241023  ┆ POR ┆ GSW │\n",
       "│ Detail        ┆            ┆              ┆           ┆   ┆              ┆           ┆     ┆     │\n",
       "└───────────────┴────────────┴──────────────┴───────────┴───┴──────────────┴───────────┴─────┴─────┘"
      ]
     },
     "execution_count": 105,
     "metadata": {},
     "output_type": "execute_result"
    }
   ],
   "source": [
    "shot_chart_df"
   ]
  },
  {
   "cell_type": "code",
   "execution_count": 291,
   "metadata": {},
   "outputs": [
    {
     "name": "stdout",
     "output_type": "stream",
     "text": [
      "Fetching period 1, Within 10ft\n",
      "Request failed: HTTPConnectionPool(host='stats.nba.com', port=80): Max retries exceeded with url: /stats/playerdashptshots/?LeagueID=00&PerMode=Totals&Period=1&VsConference=&Location=&Outcome=&DateFrom=&DateTo=&PlayerID=0&OpponentTeamID=0&Season=2024-25&VsDivision=&GameSegment=&Month=0&SeasonType=Regular+Season&SeasonSegment=&LastNGames=0&PORound=&ShotClockRange=&TeamID=1610612744 (Caused by NameResolutionError(\"<urllib3.connection.HTTPConnection object at 0x10bc07f50>: Failed to resolve 'stats.nba.com' ([Errno 8] nodename nor servname provided, or not known)\")). Retrying in 5 seconds...\n",
      "Fetching period 1, Beyond 10ft\n",
      "Fetching period 2, Within 10ft\n",
      "Fetching period 2, Beyond 10ft\n"
     ]
    },
    {
     "ename": "KeyboardInterrupt",
     "evalue": "",
     "output_type": "error",
     "traceback": [
      "\u001b[0;31m---------------------------------------------------------------------------\u001b[0m",
      "\u001b[0;31mKeyboardInterrupt\u001b[0m                         Traceback (most recent call last)",
      "Cell \u001b[0;32mIn[291], line 76\u001b[0m\n\u001b[1;32m     74\u001b[0m \u001b[38;5;28;01mfor\u001b[39;00m distance_type \u001b[38;5;129;01min\u001b[39;00m [\u001b[38;5;124m\"\u001b[39m\u001b[38;5;124mWithin 10ft\u001b[39m\u001b[38;5;124m\"\u001b[39m, \u001b[38;5;124m\"\u001b[39m\u001b[38;5;124mBeyond 10ft\u001b[39m\u001b[38;5;124m\"\u001b[39m]:\n\u001b[1;32m     75\u001b[0m     \u001b[38;5;28mprint\u001b[39m(\u001b[38;5;124mf\u001b[39m\u001b[38;5;124m\"\u001b[39m\u001b[38;5;124mFetching period \u001b[39m\u001b[38;5;132;01m{\u001b[39;00mperiod\u001b[38;5;132;01m}\u001b[39;00m\u001b[38;5;124m, \u001b[39m\u001b[38;5;132;01m{\u001b[39;00mdistance_type\u001b[38;5;132;01m}\u001b[39;00m\u001b[38;5;124m\"\u001b[39m)\n\u001b[0;32m---> 76\u001b[0m     df \u001b[38;5;241m=\u001b[39m \u001b[43mfetch_data_with_retries\u001b[49m\u001b[43m(\u001b[49m\u001b[43mperiod\u001b[49m\u001b[43m,\u001b[49m\u001b[43m \u001b[49m\u001b[43mdistance_type\u001b[49m\u001b[43m)\u001b[49m\n\u001b[1;32m     77\u001b[0m     \u001b[38;5;28;01mif\u001b[39;00m df \u001b[38;5;129;01mis\u001b[39;00m \u001b[38;5;129;01mnot\u001b[39;00m \u001b[38;5;28;01mNone\u001b[39;00m:\n\u001b[1;32m     78\u001b[0m         all_dfs\u001b[38;5;241m.\u001b[39mappend(df)\n",
      "Cell \u001b[0;32mIn[291], line 36\u001b[0m, in \u001b[0;36mfetch_data_with_retries\u001b[0;34m(period, distance_type, retries, delay)\u001b[0m\n\u001b[1;32m     34\u001b[0m \u001b[38;5;28;01mfor\u001b[39;00m attempt \u001b[38;5;129;01min\u001b[39;00m \u001b[38;5;28mrange\u001b[39m(retries):\n\u001b[1;32m     35\u001b[0m     \u001b[38;5;28;01mtry\u001b[39;00m:\n\u001b[0;32m---> 36\u001b[0m         players \u001b[38;5;241m=\u001b[39m \u001b[43mplayer\u001b[49m\u001b[38;5;241;43m.\u001b[39;49m\u001b[43mPlayer\u001b[49m\u001b[43m(\u001b[49m\u001b[43mheaders\u001b[49m\u001b[38;5;241;43m=\u001b[39;49m\u001b[43mHEADERS\u001b[49m\u001b[43m,\u001b[49m\n\u001b[1;32m     37\u001b[0m \u001b[43m                              \u001b[49m\u001b[43mendpoint\u001b[49m\u001b[38;5;241;43m=\u001b[39;49m\u001b[38;5;124;43m'\u001b[39;49m\u001b[38;5;124;43mplayerdashptshots\u001b[39;49m\u001b[38;5;124;43m'\u001b[39;49m\u001b[43m,\u001b[49m\n\u001b[1;32m     38\u001b[0m \u001b[43m                              \u001b[49m\u001b[43mleague_id\u001b[49m\u001b[38;5;241;43m=\u001b[39;49m\u001b[43mleague_id\u001b[49m\u001b[43m,\u001b[49m\n\u001b[1;32m     39\u001b[0m \u001b[43m                              \u001b[49m\u001b[43mplayer_id\u001b[49m\u001b[38;5;241;43m=\u001b[39;49m\u001b[43mplayer_id\u001b[49m\u001b[43m,\u001b[49m\n\u001b[1;32m     40\u001b[0m \u001b[43m                              \u001b[49m\u001b[43mseason\u001b[49m\u001b[38;5;241;43m=\u001b[39;49m\u001b[43mseason\u001b[49m\u001b[43m,\u001b[49m\n\u001b[1;32m     41\u001b[0m \u001b[43m                              \u001b[49m\u001b[43mteam_id\u001b[49m\u001b[38;5;241;43m=\u001b[39;49m\u001b[43mteam_id\u001b[49m\u001b[43m,\u001b[49m\n\u001b[1;32m     42\u001b[0m \u001b[43m                              \u001b[49m\u001b[43mper_mode\u001b[49m\u001b[38;5;241;43m=\u001b[39;49m\u001b[43mper_mode\u001b[49m\u001b[43m,\u001b[49m\n\u001b[1;32m     43\u001b[0m \u001b[43m                              \u001b[49m\u001b[43mlast_n_games\u001b[49m\u001b[38;5;241;43m=\u001b[39;49m\u001b[43mlast_n_games\u001b[49m\u001b[43m,\u001b[49m\n\u001b[1;32m     44\u001b[0m \u001b[43m                              \u001b[49m\u001b[43mperiod\u001b[49m\u001b[38;5;241;43m=\u001b[39;49m\u001b[38;5;28;43mstr\u001b[39;49m\u001b[43m(\u001b[49m\u001b[43mperiod\u001b[49m\u001b[43m)\u001b[49m\u001b[43m)\u001b[49m\n\u001b[1;32m     46\u001b[0m         \u001b[38;5;66;03m# Get the appropriate data based on distance type\u001b[39;00m\n\u001b[1;32m     47\u001b[0m         \u001b[38;5;28;01mif\u001b[39;00m distance_type \u001b[38;5;241m==\u001b[39m \u001b[38;5;124m\"\u001b[39m\u001b[38;5;124mWithin 10ft\u001b[39m\u001b[38;5;124m\"\u001b[39m:\n",
      "File \u001b[0;32m~/Documents/GitHub/basketball/.conda/lib/python3.11/site-packages/py_ball/player.py:396\u001b[0m, in \u001b[0;36mPlayer.__init__\u001b[0;34m(self, headers, endpoint, player_id, player_id_list, vs_player_id_list, league_id, per_mode, plus_minus, rank, pace_adjust, measure_type, period, vs_conference, last_n_games, team_id, location, outcome, date_from, date_to, opp_team_id, season, vs_division, game_segment, month, season_type, season_segment, vs_player_id, player_team_id, vs_player_team_id, player_id_1, player_id_2, player_id_3, player_id_4, player_id_5, vs_player_id_1, vs_player_id_2, vs_player_id_3, vs_player_id_4, vs_player_id_5, rookie_year, context_measure, player_position, game_id, po_round, shot_clock_range)\u001b[0m\n\u001b[1;32m    393\u001b[0m     params[\u001b[38;5;124m'\u001b[39m\u001b[38;5;124mPlayerPosition\u001b[39m\u001b[38;5;124m'\u001b[39m] \u001b[38;5;241m=\u001b[39m player_position\n\u001b[1;32m    394\u001b[0m     params[\u001b[38;5;124m'\u001b[39m\u001b[38;5;124mGameID\u001b[39m\u001b[38;5;124m'\u001b[39m] \u001b[38;5;241m=\u001b[39m game_id\n\u001b[0;32m--> 396\u001b[0m \u001b[38;5;28mself\u001b[39m\u001b[38;5;241m.\u001b[39mapi_resp \u001b[38;5;241m=\u001b[39m \u001b[43mapi_call\u001b[49m\u001b[43m(\u001b[49m\u001b[43mendpoint\u001b[49m\u001b[38;5;241;43m=\u001b[39;49m\u001b[43mendpoint\u001b[49m\u001b[43m,\u001b[49m\n\u001b[1;32m    397\u001b[0m \u001b[43m                         \u001b[49m\u001b[43mparams\u001b[49m\u001b[38;5;241;43m=\u001b[39;49m\u001b[43mparams\u001b[49m\u001b[43m,\u001b[49m\n\u001b[1;32m    398\u001b[0m \u001b[43m                         \u001b[49m\u001b[43mheaders\u001b[49m\u001b[38;5;241;43m=\u001b[39;49m\u001b[43mheaders\u001b[49m\u001b[43m)\u001b[49m\n\u001b[1;32m    400\u001b[0m \u001b[38;5;66;03m# Storing the API response in a dictionary called data\u001b[39;00m\n\u001b[1;32m    401\u001b[0m \u001b[38;5;66;03m# The results can come in different formats, namely a\u001b[39;00m\n\u001b[1;32m    402\u001b[0m \u001b[38;5;66;03m# dictionary keyed by either resultSets or resultSet\u001b[39;00m\n\u001b[1;32m    403\u001b[0m \u001b[38;5;28mself\u001b[39m\u001b[38;5;241m.\u001b[39mdata \u001b[38;5;241m=\u001b[39m parse_api_call(\u001b[38;5;28mself\u001b[39m\u001b[38;5;241m.\u001b[39mapi_resp)\n",
      "File \u001b[0;32m~/Documents/GitHub/basketball/.conda/lib/python3.11/site-packages/py_ball/utils.py:34\u001b[0m, in \u001b[0;36mapi_call\u001b[0;34m(endpoint, params, headers)\u001b[0m\n\u001b[1;32m     22\u001b[0m \u001b[38;5;28;01mdef\u001b[39;00m \u001b[38;5;21mapi_call\u001b[39m(endpoint, params, headers):\n\u001b[1;32m     23\u001b[0m \u001b[38;5;250m    \u001b[39m\u001b[38;5;124;03m\"\"\" This function completes the API call at the given\u001b[39;00m\n\u001b[1;32m     24\u001b[0m \u001b[38;5;124;03m    end point with the provided parameters.\u001b[39;00m\n\u001b[1;32m     25\u001b[0m \n\u001b[0;32m   (...)\u001b[0m\n\u001b[1;32m     31\u001b[0m \u001b[38;5;124;03m        - JSON object of the API response\u001b[39;00m\n\u001b[1;32m     32\u001b[0m \u001b[38;5;124;03m    \"\"\"\u001b[39;00m\n\u001b[0;32m---> 34\u001b[0m     api_response \u001b[38;5;241m=\u001b[39m \u001b[43mget\u001b[49m\u001b[43m(\u001b[49m\u001b[43mBASE_URL\u001b[49m\u001b[38;5;241;43m.\u001b[39;49m\u001b[43mformat\u001b[49m\u001b[43m(\u001b[49m\u001b[43mendpoint\u001b[49m\u001b[38;5;241;43m=\u001b[39;49m\u001b[43mendpoint\u001b[49m\u001b[43m)\u001b[49m\u001b[43m,\u001b[49m\u001b[43m \u001b[49m\u001b[43mparams\u001b[49m\u001b[38;5;241;43m=\u001b[39;49m\u001b[43mparams\u001b[49m\u001b[43m,\u001b[49m\n\u001b[1;32m     35\u001b[0m \u001b[43m                       \u001b[49m\u001b[43mheaders\u001b[49m\u001b[38;5;241;43m=\u001b[39;49m\u001b[43mheaders\u001b[49m\u001b[43m)\u001b[49m\n\u001b[1;32m     37\u001b[0m     api_response\u001b[38;5;241m.\u001b[39mraise_for_status()\n\u001b[1;32m     38\u001b[0m     json_resp \u001b[38;5;241m=\u001b[39m api_response\u001b[38;5;241m.\u001b[39mjson()\n",
      "File \u001b[0;32m~/Documents/GitHub/basketball/.conda/lib/python3.11/site-packages/requests/api.py:73\u001b[0m, in \u001b[0;36mget\u001b[0;34m(url, params, **kwargs)\u001b[0m\n\u001b[1;32m     62\u001b[0m \u001b[38;5;28;01mdef\u001b[39;00m \u001b[38;5;21mget\u001b[39m(url, params\u001b[38;5;241m=\u001b[39m\u001b[38;5;28;01mNone\u001b[39;00m, \u001b[38;5;241m*\u001b[39m\u001b[38;5;241m*\u001b[39mkwargs):\n\u001b[1;32m     63\u001b[0m \u001b[38;5;250m    \u001b[39m\u001b[38;5;124mr\u001b[39m\u001b[38;5;124;03m\"\"\"Sends a GET request.\u001b[39;00m\n\u001b[1;32m     64\u001b[0m \n\u001b[1;32m     65\u001b[0m \u001b[38;5;124;03m    :param url: URL for the new :class:`Request` object.\u001b[39;00m\n\u001b[0;32m   (...)\u001b[0m\n\u001b[1;32m     70\u001b[0m \u001b[38;5;124;03m    :rtype: requests.Response\u001b[39;00m\n\u001b[1;32m     71\u001b[0m \u001b[38;5;124;03m    \"\"\"\u001b[39;00m\n\u001b[0;32m---> 73\u001b[0m     \u001b[38;5;28;01mreturn\u001b[39;00m \u001b[43mrequest\u001b[49m\u001b[43m(\u001b[49m\u001b[38;5;124;43m\"\u001b[39;49m\u001b[38;5;124;43mget\u001b[39;49m\u001b[38;5;124;43m\"\u001b[39;49m\u001b[43m,\u001b[49m\u001b[43m \u001b[49m\u001b[43murl\u001b[49m\u001b[43m,\u001b[49m\u001b[43m \u001b[49m\u001b[43mparams\u001b[49m\u001b[38;5;241;43m=\u001b[39;49m\u001b[43mparams\u001b[49m\u001b[43m,\u001b[49m\u001b[43m \u001b[49m\u001b[38;5;241;43m*\u001b[39;49m\u001b[38;5;241;43m*\u001b[39;49m\u001b[43mkwargs\u001b[49m\u001b[43m)\u001b[49m\n",
      "File \u001b[0;32m~/Documents/GitHub/basketball/.conda/lib/python3.11/site-packages/requests/api.py:59\u001b[0m, in \u001b[0;36mrequest\u001b[0;34m(method, url, **kwargs)\u001b[0m\n\u001b[1;32m     55\u001b[0m \u001b[38;5;66;03m# By using the 'with' statement we are sure the session is closed, thus we\u001b[39;00m\n\u001b[1;32m     56\u001b[0m \u001b[38;5;66;03m# avoid leaving sockets open which can trigger a ResourceWarning in some\u001b[39;00m\n\u001b[1;32m     57\u001b[0m \u001b[38;5;66;03m# cases, and look like a memory leak in others.\u001b[39;00m\n\u001b[1;32m     58\u001b[0m \u001b[38;5;28;01mwith\u001b[39;00m sessions\u001b[38;5;241m.\u001b[39mSession() \u001b[38;5;28;01mas\u001b[39;00m session:\n\u001b[0;32m---> 59\u001b[0m     \u001b[38;5;28;01mreturn\u001b[39;00m \u001b[43msession\u001b[49m\u001b[38;5;241;43m.\u001b[39;49m\u001b[43mrequest\u001b[49m\u001b[43m(\u001b[49m\u001b[43mmethod\u001b[49m\u001b[38;5;241;43m=\u001b[39;49m\u001b[43mmethod\u001b[49m\u001b[43m,\u001b[49m\u001b[43m \u001b[49m\u001b[43murl\u001b[49m\u001b[38;5;241;43m=\u001b[39;49m\u001b[43murl\u001b[49m\u001b[43m,\u001b[49m\u001b[43m \u001b[49m\u001b[38;5;241;43m*\u001b[39;49m\u001b[38;5;241;43m*\u001b[39;49m\u001b[43mkwargs\u001b[49m\u001b[43m)\u001b[49m\n",
      "File \u001b[0;32m~/Documents/GitHub/basketball/.conda/lib/python3.11/site-packages/requests/sessions.py:589\u001b[0m, in \u001b[0;36mSession.request\u001b[0;34m(self, method, url, params, data, headers, cookies, files, auth, timeout, allow_redirects, proxies, hooks, stream, verify, cert, json)\u001b[0m\n\u001b[1;32m    584\u001b[0m send_kwargs \u001b[38;5;241m=\u001b[39m {\n\u001b[1;32m    585\u001b[0m     \u001b[38;5;124m\"\u001b[39m\u001b[38;5;124mtimeout\u001b[39m\u001b[38;5;124m\"\u001b[39m: timeout,\n\u001b[1;32m    586\u001b[0m     \u001b[38;5;124m\"\u001b[39m\u001b[38;5;124mallow_redirects\u001b[39m\u001b[38;5;124m\"\u001b[39m: allow_redirects,\n\u001b[1;32m    587\u001b[0m }\n\u001b[1;32m    588\u001b[0m send_kwargs\u001b[38;5;241m.\u001b[39mupdate(settings)\n\u001b[0;32m--> 589\u001b[0m resp \u001b[38;5;241m=\u001b[39m \u001b[38;5;28;43mself\u001b[39;49m\u001b[38;5;241;43m.\u001b[39;49m\u001b[43msend\u001b[49m\u001b[43m(\u001b[49m\u001b[43mprep\u001b[49m\u001b[43m,\u001b[49m\u001b[43m \u001b[49m\u001b[38;5;241;43m*\u001b[39;49m\u001b[38;5;241;43m*\u001b[39;49m\u001b[43msend_kwargs\u001b[49m\u001b[43m)\u001b[49m\n\u001b[1;32m    591\u001b[0m \u001b[38;5;28;01mreturn\u001b[39;00m resp\n",
      "File \u001b[0;32m~/Documents/GitHub/basketball/.conda/lib/python3.11/site-packages/requests/sessions.py:703\u001b[0m, in \u001b[0;36mSession.send\u001b[0;34m(self, request, **kwargs)\u001b[0m\n\u001b[1;32m    700\u001b[0m start \u001b[38;5;241m=\u001b[39m preferred_clock()\n\u001b[1;32m    702\u001b[0m \u001b[38;5;66;03m# Send the request\u001b[39;00m\n\u001b[0;32m--> 703\u001b[0m r \u001b[38;5;241m=\u001b[39m \u001b[43madapter\u001b[49m\u001b[38;5;241;43m.\u001b[39;49m\u001b[43msend\u001b[49m\u001b[43m(\u001b[49m\u001b[43mrequest\u001b[49m\u001b[43m,\u001b[49m\u001b[43m \u001b[49m\u001b[38;5;241;43m*\u001b[39;49m\u001b[38;5;241;43m*\u001b[39;49m\u001b[43mkwargs\u001b[49m\u001b[43m)\u001b[49m\n\u001b[1;32m    705\u001b[0m \u001b[38;5;66;03m# Total elapsed time of the request (approximately)\u001b[39;00m\n\u001b[1;32m    706\u001b[0m elapsed \u001b[38;5;241m=\u001b[39m preferred_clock() \u001b[38;5;241m-\u001b[39m start\n",
      "File \u001b[0;32m~/Documents/GitHub/basketball/.conda/lib/python3.11/site-packages/requests/adapters.py:667\u001b[0m, in \u001b[0;36mHTTPAdapter.send\u001b[0;34m(self, request, stream, timeout, verify, cert, proxies)\u001b[0m\n\u001b[1;32m    664\u001b[0m     timeout \u001b[38;5;241m=\u001b[39m TimeoutSauce(connect\u001b[38;5;241m=\u001b[39mtimeout, read\u001b[38;5;241m=\u001b[39mtimeout)\n\u001b[1;32m    666\u001b[0m \u001b[38;5;28;01mtry\u001b[39;00m:\n\u001b[0;32m--> 667\u001b[0m     resp \u001b[38;5;241m=\u001b[39m \u001b[43mconn\u001b[49m\u001b[38;5;241;43m.\u001b[39;49m\u001b[43murlopen\u001b[49m\u001b[43m(\u001b[49m\n\u001b[1;32m    668\u001b[0m \u001b[43m        \u001b[49m\u001b[43mmethod\u001b[49m\u001b[38;5;241;43m=\u001b[39;49m\u001b[43mrequest\u001b[49m\u001b[38;5;241;43m.\u001b[39;49m\u001b[43mmethod\u001b[49m\u001b[43m,\u001b[49m\n\u001b[1;32m    669\u001b[0m \u001b[43m        \u001b[49m\u001b[43murl\u001b[49m\u001b[38;5;241;43m=\u001b[39;49m\u001b[43murl\u001b[49m\u001b[43m,\u001b[49m\n\u001b[1;32m    670\u001b[0m \u001b[43m        \u001b[49m\u001b[43mbody\u001b[49m\u001b[38;5;241;43m=\u001b[39;49m\u001b[43mrequest\u001b[49m\u001b[38;5;241;43m.\u001b[39;49m\u001b[43mbody\u001b[49m\u001b[43m,\u001b[49m\n\u001b[1;32m    671\u001b[0m \u001b[43m        \u001b[49m\u001b[43mheaders\u001b[49m\u001b[38;5;241;43m=\u001b[39;49m\u001b[43mrequest\u001b[49m\u001b[38;5;241;43m.\u001b[39;49m\u001b[43mheaders\u001b[49m\u001b[43m,\u001b[49m\n\u001b[1;32m    672\u001b[0m \u001b[43m        \u001b[49m\u001b[43mredirect\u001b[49m\u001b[38;5;241;43m=\u001b[39;49m\u001b[38;5;28;43;01mFalse\u001b[39;49;00m\u001b[43m,\u001b[49m\n\u001b[1;32m    673\u001b[0m \u001b[43m        \u001b[49m\u001b[43massert_same_host\u001b[49m\u001b[38;5;241;43m=\u001b[39;49m\u001b[38;5;28;43;01mFalse\u001b[39;49;00m\u001b[43m,\u001b[49m\n\u001b[1;32m    674\u001b[0m \u001b[43m        \u001b[49m\u001b[43mpreload_content\u001b[49m\u001b[38;5;241;43m=\u001b[39;49m\u001b[38;5;28;43;01mFalse\u001b[39;49;00m\u001b[43m,\u001b[49m\n\u001b[1;32m    675\u001b[0m \u001b[43m        \u001b[49m\u001b[43mdecode_content\u001b[49m\u001b[38;5;241;43m=\u001b[39;49m\u001b[38;5;28;43;01mFalse\u001b[39;49;00m\u001b[43m,\u001b[49m\n\u001b[1;32m    676\u001b[0m \u001b[43m        \u001b[49m\u001b[43mretries\u001b[49m\u001b[38;5;241;43m=\u001b[39;49m\u001b[38;5;28;43mself\u001b[39;49m\u001b[38;5;241;43m.\u001b[39;49m\u001b[43mmax_retries\u001b[49m\u001b[43m,\u001b[49m\n\u001b[1;32m    677\u001b[0m \u001b[43m        \u001b[49m\u001b[43mtimeout\u001b[49m\u001b[38;5;241;43m=\u001b[39;49m\u001b[43mtimeout\u001b[49m\u001b[43m,\u001b[49m\n\u001b[1;32m    678\u001b[0m \u001b[43m        \u001b[49m\u001b[43mchunked\u001b[49m\u001b[38;5;241;43m=\u001b[39;49m\u001b[43mchunked\u001b[49m\u001b[43m,\u001b[49m\n\u001b[1;32m    679\u001b[0m \u001b[43m    \u001b[49m\u001b[43m)\u001b[49m\n\u001b[1;32m    681\u001b[0m \u001b[38;5;28;01mexcept\u001b[39;00m (ProtocolError, \u001b[38;5;167;01mOSError\u001b[39;00m) \u001b[38;5;28;01mas\u001b[39;00m err:\n\u001b[1;32m    682\u001b[0m     \u001b[38;5;28;01mraise\u001b[39;00m \u001b[38;5;167;01mConnectionError\u001b[39;00m(err, request\u001b[38;5;241m=\u001b[39mrequest)\n",
      "File \u001b[0;32m~/Documents/GitHub/basketball/.conda/lib/python3.11/site-packages/urllib3/connectionpool.py:789\u001b[0m, in \u001b[0;36mHTTPConnectionPool.urlopen\u001b[0;34m(self, method, url, body, headers, retries, redirect, assert_same_host, timeout, pool_timeout, release_conn, chunked, body_pos, preload_content, decode_content, **response_kw)\u001b[0m\n\u001b[1;32m    786\u001b[0m response_conn \u001b[38;5;241m=\u001b[39m conn \u001b[38;5;28;01mif\u001b[39;00m \u001b[38;5;129;01mnot\u001b[39;00m release_conn \u001b[38;5;28;01melse\u001b[39;00m \u001b[38;5;28;01mNone\u001b[39;00m\n\u001b[1;32m    788\u001b[0m \u001b[38;5;66;03m# Make the request on the HTTPConnection object\u001b[39;00m\n\u001b[0;32m--> 789\u001b[0m response \u001b[38;5;241m=\u001b[39m \u001b[38;5;28;43mself\u001b[39;49m\u001b[38;5;241;43m.\u001b[39;49m\u001b[43m_make_request\u001b[49m\u001b[43m(\u001b[49m\n\u001b[1;32m    790\u001b[0m \u001b[43m    \u001b[49m\u001b[43mconn\u001b[49m\u001b[43m,\u001b[49m\n\u001b[1;32m    791\u001b[0m \u001b[43m    \u001b[49m\u001b[43mmethod\u001b[49m\u001b[43m,\u001b[49m\n\u001b[1;32m    792\u001b[0m \u001b[43m    \u001b[49m\u001b[43murl\u001b[49m\u001b[43m,\u001b[49m\n\u001b[1;32m    793\u001b[0m \u001b[43m    \u001b[49m\u001b[43mtimeout\u001b[49m\u001b[38;5;241;43m=\u001b[39;49m\u001b[43mtimeout_obj\u001b[49m\u001b[43m,\u001b[49m\n\u001b[1;32m    794\u001b[0m \u001b[43m    \u001b[49m\u001b[43mbody\u001b[49m\u001b[38;5;241;43m=\u001b[39;49m\u001b[43mbody\u001b[49m\u001b[43m,\u001b[49m\n\u001b[1;32m    795\u001b[0m \u001b[43m    \u001b[49m\u001b[43mheaders\u001b[49m\u001b[38;5;241;43m=\u001b[39;49m\u001b[43mheaders\u001b[49m\u001b[43m,\u001b[49m\n\u001b[1;32m    796\u001b[0m \u001b[43m    \u001b[49m\u001b[43mchunked\u001b[49m\u001b[38;5;241;43m=\u001b[39;49m\u001b[43mchunked\u001b[49m\u001b[43m,\u001b[49m\n\u001b[1;32m    797\u001b[0m \u001b[43m    \u001b[49m\u001b[43mretries\u001b[49m\u001b[38;5;241;43m=\u001b[39;49m\u001b[43mretries\u001b[49m\u001b[43m,\u001b[49m\n\u001b[1;32m    798\u001b[0m \u001b[43m    \u001b[49m\u001b[43mresponse_conn\u001b[49m\u001b[38;5;241;43m=\u001b[39;49m\u001b[43mresponse_conn\u001b[49m\u001b[43m,\u001b[49m\n\u001b[1;32m    799\u001b[0m \u001b[43m    \u001b[49m\u001b[43mpreload_content\u001b[49m\u001b[38;5;241;43m=\u001b[39;49m\u001b[43mpreload_content\u001b[49m\u001b[43m,\u001b[49m\n\u001b[1;32m    800\u001b[0m \u001b[43m    \u001b[49m\u001b[43mdecode_content\u001b[49m\u001b[38;5;241;43m=\u001b[39;49m\u001b[43mdecode_content\u001b[49m\u001b[43m,\u001b[49m\n\u001b[1;32m    801\u001b[0m \u001b[43m    \u001b[49m\u001b[38;5;241;43m*\u001b[39;49m\u001b[38;5;241;43m*\u001b[39;49m\u001b[43mresponse_kw\u001b[49m\u001b[43m,\u001b[49m\n\u001b[1;32m    802\u001b[0m \u001b[43m\u001b[49m\u001b[43m)\u001b[49m\n\u001b[1;32m    804\u001b[0m \u001b[38;5;66;03m# Everything went great!\u001b[39;00m\n\u001b[1;32m    805\u001b[0m clean_exit \u001b[38;5;241m=\u001b[39m \u001b[38;5;28;01mTrue\u001b[39;00m\n",
      "File \u001b[0;32m~/Documents/GitHub/basketball/.conda/lib/python3.11/site-packages/urllib3/connectionpool.py:536\u001b[0m, in \u001b[0;36mHTTPConnectionPool._make_request\u001b[0;34m(self, conn, method, url, body, headers, retries, timeout, chunked, response_conn, preload_content, decode_content, enforce_content_length)\u001b[0m\n\u001b[1;32m    534\u001b[0m \u001b[38;5;66;03m# Receive the response from the server\u001b[39;00m\n\u001b[1;32m    535\u001b[0m \u001b[38;5;28;01mtry\u001b[39;00m:\n\u001b[0;32m--> 536\u001b[0m     response \u001b[38;5;241m=\u001b[39m \u001b[43mconn\u001b[49m\u001b[38;5;241;43m.\u001b[39;49m\u001b[43mgetresponse\u001b[49m\u001b[43m(\u001b[49m\u001b[43m)\u001b[49m\n\u001b[1;32m    537\u001b[0m \u001b[38;5;28;01mexcept\u001b[39;00m (BaseSSLError, \u001b[38;5;167;01mOSError\u001b[39;00m) \u001b[38;5;28;01mas\u001b[39;00m e:\n\u001b[1;32m    538\u001b[0m     \u001b[38;5;28mself\u001b[39m\u001b[38;5;241m.\u001b[39m_raise_timeout(err\u001b[38;5;241m=\u001b[39me, url\u001b[38;5;241m=\u001b[39murl, timeout_value\u001b[38;5;241m=\u001b[39mread_timeout)\n",
      "File \u001b[0;32m~/Documents/GitHub/basketball/.conda/lib/python3.11/site-packages/urllib3/connection.py:507\u001b[0m, in \u001b[0;36mHTTPConnection.getresponse\u001b[0;34m(self)\u001b[0m\n\u001b[1;32m    504\u001b[0m \u001b[38;5;28;01mfrom\u001b[39;00m \u001b[38;5;21;01m.\u001b[39;00m\u001b[38;5;21;01mresponse\u001b[39;00m \u001b[38;5;28;01mimport\u001b[39;00m HTTPResponse\n\u001b[1;32m    506\u001b[0m \u001b[38;5;66;03m# Get the response from http.client.HTTPConnection\u001b[39;00m\n\u001b[0;32m--> 507\u001b[0m httplib_response \u001b[38;5;241m=\u001b[39m \u001b[38;5;28;43msuper\u001b[39;49m\u001b[43m(\u001b[49m\u001b[43m)\u001b[49m\u001b[38;5;241;43m.\u001b[39;49m\u001b[43mgetresponse\u001b[49m\u001b[43m(\u001b[49m\u001b[43m)\u001b[49m\n\u001b[1;32m    509\u001b[0m \u001b[38;5;28;01mtry\u001b[39;00m:\n\u001b[1;32m    510\u001b[0m     assert_header_parsing(httplib_response\u001b[38;5;241m.\u001b[39mmsg)\n",
      "File \u001b[0;32m~/Documents/GitHub/basketball/.conda/lib/python3.11/http/client.py:1395\u001b[0m, in \u001b[0;36mHTTPConnection.getresponse\u001b[0;34m(self)\u001b[0m\n\u001b[1;32m   1393\u001b[0m \u001b[38;5;28;01mtry\u001b[39;00m:\n\u001b[1;32m   1394\u001b[0m     \u001b[38;5;28;01mtry\u001b[39;00m:\n\u001b[0;32m-> 1395\u001b[0m         \u001b[43mresponse\u001b[49m\u001b[38;5;241;43m.\u001b[39;49m\u001b[43mbegin\u001b[49m\u001b[43m(\u001b[49m\u001b[43m)\u001b[49m\n\u001b[1;32m   1396\u001b[0m     \u001b[38;5;28;01mexcept\u001b[39;00m \u001b[38;5;167;01mConnectionError\u001b[39;00m:\n\u001b[1;32m   1397\u001b[0m         \u001b[38;5;28mself\u001b[39m\u001b[38;5;241m.\u001b[39mclose()\n",
      "File \u001b[0;32m~/Documents/GitHub/basketball/.conda/lib/python3.11/http/client.py:325\u001b[0m, in \u001b[0;36mHTTPResponse.begin\u001b[0;34m(self)\u001b[0m\n\u001b[1;32m    323\u001b[0m \u001b[38;5;66;03m# read until we get a non-100 response\u001b[39;00m\n\u001b[1;32m    324\u001b[0m \u001b[38;5;28;01mwhile\u001b[39;00m \u001b[38;5;28;01mTrue\u001b[39;00m:\n\u001b[0;32m--> 325\u001b[0m     version, status, reason \u001b[38;5;241m=\u001b[39m \u001b[38;5;28;43mself\u001b[39;49m\u001b[38;5;241;43m.\u001b[39;49m\u001b[43m_read_status\u001b[49m\u001b[43m(\u001b[49m\u001b[43m)\u001b[49m\n\u001b[1;32m    326\u001b[0m     \u001b[38;5;28;01mif\u001b[39;00m status \u001b[38;5;241m!=\u001b[39m CONTINUE:\n\u001b[1;32m    327\u001b[0m         \u001b[38;5;28;01mbreak\u001b[39;00m\n",
      "File \u001b[0;32m~/Documents/GitHub/basketball/.conda/lib/python3.11/http/client.py:286\u001b[0m, in \u001b[0;36mHTTPResponse._read_status\u001b[0;34m(self)\u001b[0m\n\u001b[1;32m    285\u001b[0m \u001b[38;5;28;01mdef\u001b[39;00m \u001b[38;5;21m_read_status\u001b[39m(\u001b[38;5;28mself\u001b[39m):\n\u001b[0;32m--> 286\u001b[0m     line \u001b[38;5;241m=\u001b[39m \u001b[38;5;28mstr\u001b[39m(\u001b[38;5;28mself\u001b[39m\u001b[38;5;241m.\u001b[39mfp\u001b[38;5;241m.\u001b[39mreadline(_MAXLINE \u001b[38;5;241m+\u001b[39m \u001b[38;5;241m1\u001b[39m), \u001b[38;5;124m\"\u001b[39m\u001b[38;5;124miso-8859-1\u001b[39m\u001b[38;5;124m\"\u001b[39m)\n\u001b[1;32m    287\u001b[0m     \u001b[38;5;28;01mif\u001b[39;00m \u001b[38;5;28mlen\u001b[39m(line) \u001b[38;5;241m>\u001b[39m _MAXLINE:\n\u001b[1;32m    288\u001b[0m         \u001b[38;5;28;01mraise\u001b[39;00m LineTooLong(\u001b[38;5;124m\"\u001b[39m\u001b[38;5;124mstatus line\u001b[39m\u001b[38;5;124m\"\u001b[39m)\n",
      "File \u001b[0;32m~/Documents/GitHub/basketball/.conda/lib/python3.11/socket.py:718\u001b[0m, in \u001b[0;36mSocketIO.readinto\u001b[0;34m(self, b)\u001b[0m\n\u001b[1;32m    716\u001b[0m \u001b[38;5;28;01mwhile\u001b[39;00m \u001b[38;5;28;01mTrue\u001b[39;00m:\n\u001b[1;32m    717\u001b[0m     \u001b[38;5;28;01mtry\u001b[39;00m:\n\u001b[0;32m--> 718\u001b[0m         \u001b[38;5;28;01mreturn\u001b[39;00m \u001b[38;5;28;43mself\u001b[39;49m\u001b[38;5;241;43m.\u001b[39;49m\u001b[43m_sock\u001b[49m\u001b[38;5;241;43m.\u001b[39;49m\u001b[43mrecv_into\u001b[49m\u001b[43m(\u001b[49m\u001b[43mb\u001b[49m\u001b[43m)\u001b[49m\n\u001b[1;32m    719\u001b[0m     \u001b[38;5;28;01mexcept\u001b[39;00m timeout:\n\u001b[1;32m    720\u001b[0m         \u001b[38;5;28mself\u001b[39m\u001b[38;5;241m.\u001b[39m_timeout_occurred \u001b[38;5;241m=\u001b[39m \u001b[38;5;28;01mTrue\u001b[39;00m\n",
      "\u001b[0;31mKeyboardInterrupt\u001b[0m: "
     ]
    }
   ],
   "source": [
    "import time\n",
    "import requests\n",
    "import polars as pl\n",
    "from py_ball import player\n",
    "\n",
    "HEADERS = {\n",
    "    'Connection': 'keep-alive',\n",
    "    'Host': 'stats.nba.com',\n",
    "    'Origin': 'http://stats.nba.com',\n",
    "    'Upgrade-Insecure-Requests': '1',\n",
    "    'Referer': 'https://stats.nba.com',\n",
    "    'x-nba-stats-origin': 'stats',\n",
    "    'x-nba-stats-token': 'true',\n",
    "    'Accept-Language': 'en-US,en;q=0.5',\n",
    "    \"Accept\": \"application/json, text/plain, */*\",\n",
    "    \"X-NewRelic-ID\": \"VQECWF5UChAHUlNTBwgBVw==\",\n",
    "    'User-Agent': \"Mozilla/5.0 (Macintosh; Intel Mac OS X 10_14_6) \" + \\\n",
    "                  \"AppleWebKit/537.36 (KHTML, like Gecko) \" + \\\n",
    "                  \"Chrome/84.0.4147.89 Safari/537.36\"\n",
    "}\n",
    "\n",
    "league_id = '00'  # NBA\n",
    "player_id = '0'\n",
    "season = '2024-25'\n",
    "team_id = '1610612744'\n",
    "per_mode = 'Totals'\n",
    "last_n_games = \"0\"\n",
    "\n",
    "# List to store dataframes for each period and distance type\n",
    "all_dfs = []\n",
    "\n",
    "# Fetch data with retry logic\n",
    "def fetch_data_with_retries(period, distance_type, retries=3, delay=5):\n",
    "    for attempt in range(retries):\n",
    "        try:\n",
    "            players = player.Player(headers=HEADERS,\n",
    "                                  endpoint='playerdashptshots',\n",
    "                                  league_id=league_id,\n",
    "                                  player_id=player_id,\n",
    "                                  season=season,\n",
    "                                  team_id=team_id,\n",
    "                                  per_mode=per_mode,\n",
    "                                  last_n_games=last_n_games,\n",
    "                                  period=str(period))\n",
    "\n",
    "            # Get the appropriate data based on distance type\n",
    "            if distance_type == \"Within 10ft\":\n",
    "                df = pl.DataFrame(players.data['ClosestDefenderShooting'])\n",
    "            else:  # \"Beyond 10ft\"\n",
    "                df = pl.DataFrame(players.data['ClosestDefender10ftPlusShooting'])\n",
    "            \n",
    "            # Add metadata columns\n",
    "            df = df.with_columns([\n",
    "                pl.lit(period).alias('period'),\n",
    "                pl.lit(distance_type).alias('distance_type')\n",
    "            ])\n",
    "            \n",
    "            # Check if the dataframe is not empty and not (1, 1)\n",
    "            if df.shape != (1, 2) and df.shape[0] > 0:\n",
    "                return df\n",
    "            else:\n",
    "                print(f\"No valid data for period {period}, {distance_type}.\")\n",
    "                return None\n",
    "                \n",
    "        except requests.exceptions.RequestException as e:\n",
    "            print(f\"Request failed: {e}. Retrying in {delay} seconds...\")\n",
    "            time.sleep(delay)\n",
    "            delay *= 2  # Exponential backoff\n",
    "    print(\"Max retries exceeded. Could not fetch data.\")\n",
    "    return None\n",
    "\n",
    "# Looping through each period and distance type\n",
    "for period in range(1, 7):  # Assuming periods 1 to 6\n",
    "    for distance_type in [\"Within 10ft\", \"Beyond 10ft\"]:\n",
    "        print(f\"Fetching period {period}, {distance_type}\")\n",
    "        df = fetch_data_with_retries(period, distance_type)\n",
    "        if df is not None:\n",
    "            all_dfs.append(df)\n",
    "\n",
    "# Concatenate all dataframes into one\n",
    "combined_defender_dist_df = pl.concat(all_dfs)\n",
    "\n",
    "#Saving to parquet  with timestamp\n",
    "timestamp = time.strftime(\"%Y%m%d_%H%M%S\")\n",
    "filename = f\"defender_distance_data_{timestamp}.parquet\"\n",
    "combined_defender_dist_df.write_parquet(filename)"
   ]
  },
  {
   "cell_type": "code",
   "execution_count": 292,
   "metadata": {},
   "outputs": [
    {
     "data": {
      "text/html": [
       "<div><style>\n",
       ".dataframe > thead > tr,\n",
       ".dataframe > tbody > tr {\n",
       "  text-align: right;\n",
       "  white-space: pre-wrap;\n",
       "}\n",
       "</style>\n",
       "<small>shape: (1, 1)</small><table border=\"1\" class=\"dataframe\"><thead><tr><th>FGA</th></tr><tr><td>i64</td></tr></thead><tbody><tr><td>30</td></tr></tbody></table></div>"
      ],
      "text/plain": [
       "shape: (1, 1)\n",
       "┌─────┐\n",
       "│ FGA │\n",
       "│ --- │\n",
       "│ i64 │\n",
       "╞═════╡\n",
       "│ 30  │\n",
       "└─────┘"
      ]
     },
     "execution_count": 292,
     "metadata": {},
     "output_type": "execute_result"
    }
   ],
   "source": [
    "combined_defender_dist_df.filter(pl.col(\"PLAYER_ID\") == 201939).filter(pl.col(\"distance_type\") == \"Beyond 10ft\").select(pl.col(\"FGA\").sum())\n"
   ]
  },
  {
   "cell_type": "code",
   "execution_count": 1,
   "metadata": {},
   "outputs": [
    {
     "ename": "NameError",
     "evalue": "name 'combined_defender_dist_df' is not defined",
     "output_type": "error",
     "traceback": [
      "\u001b[0;31m---------------------------------------------------------------------------\u001b[0m",
      "\u001b[0;31mNameError\u001b[0m                                 Traceback (most recent call last)",
      "Cell \u001b[0;32mIn[1], line 1\u001b[0m\n\u001b[0;32m----> 1\u001b[0m \u001b[43mcombined_defender_dist_df\u001b[49m\n",
      "\u001b[0;31mNameError\u001b[0m: name 'combined_defender_dist_df' is not defined"
     ]
    }
   ],
   "source": [
    "combined_defender_dist_df"
   ]
  },
  {
   "cell_type": "code",
   "execution_count": 293,
   "metadata": {},
   "outputs": [],
   "source": [
    "timestamp = time.strftime(\"%Y%m%d_%H%M%S\")\n",
    "filename = f\"defender_distance_data_{timestamp}.parquet\"\n",
    "combined_defender_dist_df.write_parquet(filename)"
   ]
  },
  {
   "cell_type": "code",
   "execution_count": 143,
   "metadata": {},
   "outputs": [],
   "source": [
    "HEADERS = {'Connection': 'keep-alive',\n",
    "           'Host': 'stats.nba.com',\n",
    "           'Origin': 'http://stats.nba.com',\n",
    "           'Upgrade-Insecure-Requests': '1',\n",
    "           'Referer': 'https://stats.nba.com',\n",
    "           'x-nba-stats-origin': 'stats',\n",
    "           'x-nba-stats-token': 'true',\n",
    "           'Accept-Language': 'en-US,en;q=0.5',\n",
    "           \"Accept\": \"application/json, text/plain, */*\",\n",
    "           \"X-NewRelic-ID\": \"VQECWF5UChAHUlNTBwgBVw==\",\n",
    "           'User-Agent': \"Mozilla/5.0 (Macintosh; Intel Mac OS X 10_14_6) \" + \\\n",
    "                         \"AppleWebKit/537.36 (KHTML, like Gecko) \" + \\\n",
    "                         \"Chrome/84.0.4147.89 Safari/537.36\"}\n",
    "\n",
    "\n",
    "league_id = '00' #NBA\n",
    "player_id = '0'\n",
    "season = '2023-24'\n",
    "team_id = '0'\n",
    "game_id = \"0\"\n",
    "per_mode = 'Totals'\n",
    "last_n_games = \"0\"\n",
    "period = \"0\"\n",
    "\n",
    "players = player.Player(headers=HEADERS,\n",
    "                        endpoint='playerestimatedmetrics',\n",
    "                        league_id=league_id,\n",
    "                        player_id=player_id,\n",
    "                        season=season,\n",
    "                        team_id=team_id,\n",
    "                        game_id=game_id,\n",
    "                        per_mode=per_mode,\n",
    "                        last_n_games = last_n_games, \n",
    "                        period = period)\n",
    "\n",
    "players.data.keys()\n",
    "estimated_df = pl.DataFrame(players.data['PlayerEstimatedMetrics'])"
   ]
  },
  {
   "cell_type": "code",
   "execution_count": 144,
   "metadata": {},
   "outputs": [
    {
     "data": {
      "text/html": [
       "<div><style>\n",
       ".dataframe > thead > tr,\n",
       ".dataframe > tbody > tr {\n",
       "  text-align: right;\n",
       "  white-space: pre-wrap;\n",
       "}\n",
       "</style>\n",
       "<small>shape: (572, 32)</small><table border=\"1\" class=\"dataframe\"><thead><tr><th>PLAYER_ID</th><th>PLAYER_NAME</th><th>GP</th><th>W</th><th>L</th><th>W_PCT</th><th>MIN</th><th>E_OFF_RATING</th><th>E_DEF_RATING</th><th>E_NET_RATING</th><th>E_AST_RATIO</th><th>E_OREB_PCT</th><th>E_DREB_PCT</th><th>E_REB_PCT</th><th>E_TOV_PCT</th><th>E_USG_PCT</th><th>E_PACE</th><th>GP_RANK</th><th>W_RANK</th><th>L_RANK</th><th>W_PCT_RANK</th><th>MIN_RANK</th><th>E_OFF_RATING_RANK</th><th>E_DEF_RATING_RANK</th><th>E_NET_RATING_RANK</th><th>E_AST_RATIO_RANK</th><th>E_OREB_PCT_RANK</th><th>E_DREB_PCT_RANK</th><th>E_REB_PCT_RANK</th><th>E_TOV_PCT_RANK</th><th>E_USG_PCT_RANK</th><th>E_PACE_RANK</th></tr><tr><td>i64</td><td>str</td><td>i64</td><td>i64</td><td>i64</td><td>f64</td><td>f64</td><td>f64</td><td>f64</td><td>f64</td><td>f64</td><td>f64</td><td>f64</td><td>f64</td><td>f64</td><td>f64</td><td>f64</td><td>i64</td><td>i64</td><td>i64</td><td>i64</td><td>i64</td><td>i64</td><td>i64</td><td>i64</td><td>i64</td><td>i64</td><td>i64</td><td>i64</td><td>i64</td><td>i64</td><td>i64</td></tr></thead><tbody><tr><td>1631199</td><td>&quot;Ron Harper Jr.&quot;</td><td>1</td><td>1</td><td>0</td><td>1.0</td><td>3.7</td><td>100.0</td><td>155.1</td><td>-55.1</td><td>100.0</td><td>0.0</td><td>0.0</td><td>0.0</td><td>0.0</td><td>0.0</td><td>124.67</td><td>565</td><td>538</td><td>1</td><td>1</td><td>540</td><td>514</td><td>570</td><td>569</td><td>1</td><td>545</td><td>557</td><td>561</td><td>1</td><td>569</td><td>1</td></tr><tr><td>1631167</td><td>&quot;Izaiah Brockington&quot;</td><td>1</td><td>1</td><td>0</td><td>1.0</td><td>3.4</td><td>127.1</td><td>121.0</td><td>6.2</td><td>0.0</td><td>0.143</td><td>0.167</td><td>0.154</td><td>0.0</td><td>0.372</td><td>119.74</td><td>565</td><td>538</td><td>1</td><td>1</td><td>546</td><td>10</td><td>546</td><td>100</td><td>553</td><td>19</td><td>176</td><td>88</td><td>1</td><td>4</td><td>2</td></tr><tr><td>1641926</td><td>&quot;Dexter Dennis&quot;</td><td>4</td><td>1</td><td>3</td><td>0.25</td><td>7.5</td><td>89.9</td><td>102.5</td><td>-12.7</td><td>14.6</td><td>0.026</td><td>0.235</td><td>0.123</td><td>10.981</td><td>0.298</td><td>116.1</td><td>542</td><td>538</td><td>39</td><td>474</td><td>482</td><td>548</td><td>36</td><td>510</td><td>376</td><td>398</td><td>59</td><td>143</td><td>48</td><td>22</td><td>3</td></tr><tr><td>1630563</td><td>&quot;Joshua Primo&quot;</td><td>2</td><td>2</td><td>0</td><td>1.0</td><td>5.1</td><td>96.7</td><td>89.3</td><td>7.4</td><td>0.0</td><td>0.125</td><td>0.0</td><td>0.053</td><td>57.143</td><td>0.283</td><td>113.42</td><td>555</td><td>511</td><td>1</td><td>1</td><td>515</td><td>527</td><td>11</td><td>82</td><td>553</td><td>38</td><td>557</td><td>508</td><td>572</td><td>33</td><td>4</td></tr><tr><td>1630535</td><td>&quot;Greg Brown III&quot;</td><td>6</td><td>3</td><td>3</td><td>0.5</td><td>6.6</td><td>105.2</td><td>109.9</td><td>-4.8</td><td>17.4</td><td>0.067</td><td>0.133</td><td>0.1</td><td>17.422</td><td>0.184</td><td>111.67</td><td>525</td><td>489</td><td>39</td><td>300</td><td>497</td><td>452</td><td>169</td><td>363</td><td>282</td><td>163</td><td>285</td><td>220</td><td>541</td><td>227</td><td>5</td></tr><tr><td>&hellip;</td><td>&hellip;</td><td>&hellip;</td><td>&hellip;</td><td>&hellip;</td><td>&hellip;</td><td>&hellip;</td><td>&hellip;</td><td>&hellip;</td><td>&hellip;</td><td>&hellip;</td><td>&hellip;</td><td>&hellip;</td><td>&hellip;</td><td>&hellip;</td><td>&hellip;</td><td>&hellip;</td><td>&hellip;</td><td>&hellip;</td><td>&hellip;</td><td>&hellip;</td><td>&hellip;</td><td>&hellip;</td><td>&hellip;</td><td>&hellip;</td><td>&hellip;</td><td>&hellip;</td><td>&hellip;</td><td>&hellip;</td><td>&hellip;</td><td>&hellip;</td><td>&hellip;</td></tr><tr><td>1628391</td><td>&quot;D.J. Wilson&quot;</td><td>2</td><td>1</td><td>1</td><td>0.5</td><td>7.7</td><td>130.8</td><td>115.2</td><td>15.6</td><td>25.0</td><td>0.083</td><td>0.091</td><td>0.087</td><td>0.0</td><td>0.197</td><td>88.51</td><td>555</td><td>538</td><td>14</td><td>300</td><td>478</td><td>6</td><td>425</td><td>20</td><td>115</td><td>121</td><td>479</td><td>296</td><td>1</td><td>183</td><td>568</td></tr><tr><td>1631250</td><td>&quot;Pete Nance&quot;</td><td>8</td><td>3</td><td>5</td><td>0.375</td><td>3.4</td><td>63.7</td><td>112.3</td><td>-48.6</td><td>0.0</td><td>0.0</td><td>0.136</td><td>0.065</td><td>12.69</td><td>0.145</td><td>87.01</td><td>510</td><td>489</td><td>64</td><td>407</td><td>545</td><td>568</td><td>287</td><td>565</td><td>553</td><td>545</td><td>271</td><td>431</td><td>48</td><td>410</td><td>569</td></tr><tr><td>1631376</td><td>&quot;Dmytro Skapintsev&quot;</td><td>2</td><td>0</td><td>2</td><td>0.0</td><td>1.1</td><td>75.0</td><td>87.2</td><td>-12.2</td><td>0.0</td><td>0.0</td><td>0.0</td><td>0.0</td><td>0.0</td><td>0.25</td><td>83.7</td><td>555</td><td>560</td><td>28</td><td>560</td><td>570</td><td>566</td><td>9</td><td>502</td><td>553</td><td>545</td><td>557</td><td>561</td><td>1</td><td>70</td><td>570</td></tr><tr><td>1630606</td><td>&quot;Javonte Smart&quot;</td><td>1</td><td>1</td><td>0</td><td>1.0</td><td>0.7</td><td>0.0</td><td>300.0</td><td>-300.0</td><td>0.0</td><td>0.0</td><td>0.0</td><td>0.0</td><td>0.0</td><td>0.0</td><td>72.0</td><td>565</td><td>538</td><td>1</td><td>1</td><td>571</td><td>571</td><td>572</td><td>572</td><td>553</td><td>545</td><td>557</td><td>561</td><td>1</td><td>569</td><td>571</td></tr><tr><td>1628382</td><td>&quot;Justin Jackson&quot;</td><td>2</td><td>2</td><td>0</td><td>1.0</td><td>0.4</td><td>0.0</td><td>0.0</td><td>0.0</td><td>0.0</td><td>0.0</td><td>0.0</td><td>0.0</td><td>0.0</td><td>0.0</td><td>68.57</td><td>555</td><td>511</td><td>1</td><td>1</td><td>572</td><td>571</td><td>1</td><td>252</td><td>553</td><td>545</td><td>557</td><td>561</td><td>1</td><td>569</td><td>572</td></tr></tbody></table></div>"
      ],
      "text/plain": [
       "shape: (572, 32)\n",
       "┌───────────┬──────────────┬─────┬─────┬───┬─────────────┬─────────────┬─────────────┬─────────────┐\n",
       "│ PLAYER_ID ┆ PLAYER_NAME  ┆ GP  ┆ W   ┆ … ┆ E_REB_PCT_R ┆ E_TOV_PCT_R ┆ E_USG_PCT_R ┆ E_PACE_RANK │\n",
       "│ ---       ┆ ---          ┆ --- ┆ --- ┆   ┆ ANK         ┆ ANK         ┆ ANK         ┆ ---         │\n",
       "│ i64       ┆ str          ┆ i64 ┆ i64 ┆   ┆ ---         ┆ ---         ┆ ---         ┆ i64         │\n",
       "│           ┆              ┆     ┆     ┆   ┆ i64         ┆ i64         ┆ i64         ┆             │\n",
       "╞═══════════╪══════════════╪═════╪═════╪═══╪═════════════╪═════════════╪═════════════╪═════════════╡\n",
       "│ 1631199   ┆ Ron Harper   ┆ 1   ┆ 1   ┆ … ┆ 561         ┆ 1           ┆ 569         ┆ 1           │\n",
       "│           ┆ Jr.          ┆     ┆     ┆   ┆             ┆             ┆             ┆             │\n",
       "│ 1631167   ┆ Izaiah       ┆ 1   ┆ 1   ┆ … ┆ 88          ┆ 1           ┆ 4           ┆ 2           │\n",
       "│           ┆ Brockington  ┆     ┆     ┆   ┆             ┆             ┆             ┆             │\n",
       "│ 1641926   ┆ Dexter       ┆ 4   ┆ 1   ┆ … ┆ 143         ┆ 48          ┆ 22          ┆ 3           │\n",
       "│           ┆ Dennis       ┆     ┆     ┆   ┆             ┆             ┆             ┆             │\n",
       "│ 1630563   ┆ Joshua Primo ┆ 2   ┆ 2   ┆ … ┆ 508         ┆ 572         ┆ 33          ┆ 4           │\n",
       "│ 1630535   ┆ Greg Brown   ┆ 6   ┆ 3   ┆ … ┆ 220         ┆ 541         ┆ 227         ┆ 5           │\n",
       "│           ┆ III          ┆     ┆     ┆   ┆             ┆             ┆             ┆             │\n",
       "│ …         ┆ …            ┆ …   ┆ …   ┆ … ┆ …           ┆ …           ┆ …           ┆ …           │\n",
       "│ 1628391   ┆ D.J. Wilson  ┆ 2   ┆ 1   ┆ … ┆ 296         ┆ 1           ┆ 183         ┆ 568         │\n",
       "│ 1631250   ┆ Pete Nance   ┆ 8   ┆ 3   ┆ … ┆ 431         ┆ 48          ┆ 410         ┆ 569         │\n",
       "│ 1631376   ┆ Dmytro       ┆ 2   ┆ 0   ┆ … ┆ 561         ┆ 1           ┆ 70          ┆ 570         │\n",
       "│           ┆ Skapintsev   ┆     ┆     ┆   ┆             ┆             ┆             ┆             │\n",
       "│ 1630606   ┆ Javonte      ┆ 1   ┆ 1   ┆ … ┆ 561         ┆ 1           ┆ 569         ┆ 571         │\n",
       "│           ┆ Smart        ┆     ┆     ┆   ┆             ┆             ┆             ┆             │\n",
       "│ 1628382   ┆ Justin       ┆ 2   ┆ 2   ┆ … ┆ 561         ┆ 1           ┆ 569         ┆ 572         │\n",
       "│           ┆ Jackson      ┆     ┆     ┆   ┆             ┆             ┆             ┆             │\n",
       "└───────────┴──────────────┴─────┴─────┴───┴─────────────┴─────────────┴─────────────┴─────────────┘"
      ]
     },
     "execution_count": 144,
     "metadata": {},
     "output_type": "execute_result"
    }
   ],
   "source": [
    "estimated_df\n"
   ]
  },
  {
   "cell_type": "code",
   "execution_count": 170,
   "metadata": {},
   "outputs": [
    {
     "name": "stdout",
     "output_type": "stream",
     "text": [
      "shape: (575, 4)\n",
      "┌───────────┬─────────────────┬────────────┬───────────┐\n",
      "│ PLAYER_ID ┆ PLAYER_NAME     ┆ TEAM_ID    ┆ TEAM_NAME │\n",
      "│ ---       ┆ ---             ┆ ---        ┆ ---       │\n",
      "│ i64       ┆ str             ┆ i64        ┆ str       │\n",
      "╞═══════════╪═════════════════╪════════════╪═══════════╡\n",
      "│ 1630639   ┆ A.J. Lawson     ┆ 1610612742 ┆ Mavericks │\n",
      "│ 1631260   ┆ AJ Green        ┆ 1610612749 ┆ Bucks     │\n",
      "│ 1631100   ┆ AJ Griffin      ┆ 1610612737 ┆ Hawks     │\n",
      "│ 203932    ┆ Aaron Gordon    ┆ 1610612743 ┆ Nuggets   │\n",
      "│ 1628988   ┆ Aaron Holiday   ┆ 1610612745 ┆ Rockets   │\n",
      "│ …         ┆ …               ┆ …          ┆ …         │\n",
      "│ 203897    ┆ Zach LaVine     ┆ 1610612741 ┆ Bulls     │\n",
      "│ 1630285   ┆ Zavier Simpson  ┆ 0          ┆           │\n",
      "│ 1630192   ┆ Zeke Nnaji      ┆ 1610612743 ┆ Nuggets   │\n",
      "│ 1630533   ┆ Ziaire Williams ┆ 1610612763 ┆ Grizzlies │\n",
      "│ 1629627   ┆ Zion Williamson ┆ 1610612740 ┆ Pelicans  │\n",
      "└───────────┴─────────────────┴────────────┴───────────┘\n"
     ]
    },
    {
     "name": "stderr",
     "output_type": "stream",
     "text": [
      "/var/folders/29/ysfdqqh96xd2zvnqnqd_8fm80000gn/T/ipykernel_33908/2309746658.py:30: DataOrientationWarning: Row orientation inferred during DataFrame construction. Explicitly specify the orientation by passing `orient=\"row\"` to silence this warning.\n",
      "  df = pl.DataFrame(player_data, schema=columns)\n"
     ]
    }
   ],
   "source": [
    "import requests\n",
    "import polars as pl\n",
    "\n",
    "HEADERS = {\n",
    "    'Connection': 'keep-alive',\n",
    "    'Host': 'stats.nba.com',\n",
    "    'Origin': 'https://www.nba.com',\n",
    "    'Referer': 'https://www.nba.com/',\n",
    "    'Accept-Language': 'en-US,en;q=0.9',\n",
    "    \"Accept\": \"application/json, text/plain, */*\",\n",
    "    'User-Agent': \"Mozilla/5.0 (Windows NT 10.0; Win64; x64) AppleWebKit/537.36 (KHTML, like Gecko) Chrome/91.0.4472.124 Safari/537.36\"\n",
    "}\n",
    "\n",
    "def get_player_team_ids(season):\n",
    "    url = \"https://stats.nba.com/stats/commonallplayers\"\n",
    "    \n",
    "    params = {\n",
    "        'LeagueID': '00',\n",
    "        'Season': season,\n",
    "        'IsOnlyCurrentSeason': 1\n",
    "    }\n",
    "    \n",
    "    response = requests.get(url, headers=HEADERS, params=params)\n",
    "    \n",
    "    if response.status_code == 200:\n",
    "        data = response.json()\n",
    "        player_data = data['resultSets'][0]['rowSet']\n",
    "        columns = data['resultSets'][0]['headers']\n",
    "        \n",
    "        df = pl.DataFrame(player_data, schema=columns)\n",
    "        return df\n",
    "    else:\n",
    "        print(f\"Failed to fetch data. Status code: {response.status_code}\")\n",
    "        return None\n",
    "\n",
    "# Specify the season (format: YYYY-YY)\n",
    "season = \"2023-24\"\n",
    "\n",
    "# Get player and team IDs\n",
    "player_team_df = get_player_team_ids(season)\n",
    "\n",
    "if player_team_df is not None:\n",
    "    # Select relevant columns\n",
    "    relevant_columns = ['PERSON_ID', 'DISPLAY_FIRST_LAST', 'TEAM_ID', 'TEAM_NAME']\n",
    "    player_team_df = player_team_df.select(relevant_columns)\n",
    "    \n",
    "    # Rename columns for clarity\n",
    "    player_team_df = player_team_df.rename({\n",
    "        'PERSON_ID': 'PLAYER_ID',\n",
    "        'DISPLAY_FIRST_LAST': 'PLAYER_NAME'\n",
    "    })\n",
    "    \n",
    "    # Sort by PLAYER_NAME\n",
    "    player_team_df = player_team_df.sort('PLAYER_NAME')\n",
    "else:\n",
    "    print(\"Failed to retrieve player and team IDs.\")"
   ]
  },
  {
   "cell_type": "code",
   "execution_count": 182,
   "metadata": {},
   "outputs": [
    {
     "data": {
      "text/html": [
       "<div><style>\n",
       ".dataframe > thead > tr,\n",
       ".dataframe > tbody > tr {\n",
       "  text-align: right;\n",
       "  white-space: pre-wrap;\n",
       "}\n",
       "</style>\n",
       "<small>shape: (30, 4)</small><table border=\"1\" class=\"dataframe\"><thead><tr><th>TEAM_ID</th><th>TEAM_NAME</th><th>avg_games_played</th><th>total_players</th></tr><tr><td>i64</td><td>str</td><td>f64</td><td>u32</td></tr></thead><tbody><tr><td>1610612739</td><td>&quot;Cavaliers&quot;</td><td>48.111111</td><td>18</td></tr><tr><td>1610612753</td><td>&quot;Magic&quot;</td><td>53.333333</td><td>18</td></tr><tr><td>1610612754</td><td>&quot;Pacers&quot;</td><td>49.388889</td><td>18</td></tr><tr><td>1610612765</td><td>&quot;Pistons&quot;</td><td>47.722222</td><td>18</td></tr><tr><td>1610612747</td><td>&quot;Lakers&quot;</td><td>51.888889</td><td>18</td></tr><tr><td>&hellip;</td><td>&hellip;</td><td>&hellip;</td><td>&hellip;</td></tr><tr><td>1610612738</td><td>&quot;Celtics&quot;</td><td>51.705882</td><td>17</td></tr><tr><td>1610612749</td><td>&quot;Bucks&quot;</td><td>54.647059</td><td>17</td></tr><tr><td>1610612755</td><td>&quot;76ers&quot;</td><td>53.4375</td><td>16</td></tr><tr><td>1610612740</td><td>&quot;Pelicans&quot;</td><td>53.125</td><td>16</td></tr><tr><td>1610612750</td><td>&quot;Timberwolves&quot;</td><td>51.3125</td><td>16</td></tr></tbody></table></div>"
      ],
      "text/plain": [
       "shape: (30, 4)\n",
       "┌────────────┬──────────────┬──────────────────┬───────────────┐\n",
       "│ TEAM_ID    ┆ TEAM_NAME    ┆ avg_games_played ┆ total_players │\n",
       "│ ---        ┆ ---          ┆ ---              ┆ ---           │\n",
       "│ i64        ┆ str          ┆ f64              ┆ u32           │\n",
       "╞════════════╪══════════════╪══════════════════╪═══════════════╡\n",
       "│ 1610612739 ┆ Cavaliers    ┆ 48.111111        ┆ 18            │\n",
       "│ 1610612753 ┆ Magic        ┆ 53.333333        ┆ 18            │\n",
       "│ 1610612754 ┆ Pacers       ┆ 49.388889        ┆ 18            │\n",
       "│ 1610612765 ┆ Pistons      ┆ 47.722222        ┆ 18            │\n",
       "│ 1610612747 ┆ Lakers       ┆ 51.888889        ┆ 18            │\n",
       "│ …          ┆ …            ┆ …                ┆ …             │\n",
       "│ 1610612738 ┆ Celtics      ┆ 51.705882        ┆ 17            │\n",
       "│ 1610612749 ┆ Bucks        ┆ 54.647059        ┆ 17            │\n",
       "│ 1610612755 ┆ 76ers        ┆ 53.4375          ┆ 16            │\n",
       "│ 1610612740 ┆ Pelicans     ┆ 53.125           ┆ 16            │\n",
       "│ 1610612750 ┆ Timberwolves ┆ 51.3125          ┆ 16            │\n",
       "└────────────┴──────────────┴──────────────────┴───────────────┘"
      ]
     },
     "execution_count": 182,
     "metadata": {},
     "output_type": "execute_result"
    }
   ],
   "source": [
    "(estimated_df.join(player_team_df, on=['PLAYER_ID', 'PLAYER_NAME'], how='left')\n",
    ".filter(pl.col('TEAM_ID') > 0)\n",
    ".group_by('TEAM_ID', 'TEAM_NAME')\n",
    ".agg(pl.col('GP').mean().alias('avg_games_played'),\n",
    "     pl.col('PLAYER_NAME').count().alias('total_players'))\n",
    ".sort('total_players', descending=True)\n",
    ")\n"
   ]
  },
  {
   "cell_type": "code",
   "execution_count": 206,
   "metadata": {},
   "outputs": [],
   "source": [
    "from py_ball import team\n",
    "\n",
    "league_id = '00' #NBA\n",
    "player_id = '0'\n",
    "season = '2022-23'\n",
    "team_id = '1610612741'\n",
    "game_id = \"0\"\n",
    "per_mode = 'Totals'\n",
    "last_n_games = \"0\"\n",
    "period = \"0\"\n",
    "\n",
    "teams = team.Team(headers=HEADERS,\n",
    "                        endpoint='teamplayeronoffdetails',\n",
    "                        league_id=league_id,\n",
    "                        season=season,\n",
    "                        team_id=team_id,\n",
    "                        game_id=game_id,\n",
    "                        per_mode=per_mode,\n",
    "                        last_n_games = last_n_games, \n",
    "                        period = period)\n",
    "\n",
    "teams.data.keys()\n",
    "lineup_df = pl.DataFrame(teams.data['PlayersOnCourtTeamPlayerOnOffDetails'])"
   ]
  },
  {
   "cell_type": "code",
   "execution_count": 207,
   "metadata": {},
   "outputs": [
    {
     "data": {
      "text/html": [
       "<div><style>\n",
       ".dataframe > thead > tr,\n",
       ".dataframe > tbody > tr {\n",
       "  text-align: right;\n",
       "  white-space: pre-wrap;\n",
       "}\n",
       "</style>\n",
       "<small>shape: (18, 59)</small><table border=\"1\" class=\"dataframe\"><thead><tr><th>GROUP_SET</th><th>TEAM_ID</th><th>TEAM_ABBREVIATION</th><th>TEAM_NAME</th><th>VS_PLAYER_ID</th><th>VS_PLAYER_NAME</th><th>COURT_STATUS</th><th>GP</th><th>W</th><th>L</th><th>W_PCT</th><th>MIN</th><th>FGM</th><th>FGA</th><th>FG_PCT</th><th>FG3M</th><th>FG3A</th><th>FG3_PCT</th><th>FTM</th><th>FTA</th><th>FT_PCT</th><th>OREB</th><th>DREB</th><th>REB</th><th>AST</th><th>TOV</th><th>STL</th><th>BLK</th><th>BLKA</th><th>PF</th><th>PFD</th><th>PTS</th><th>PLUS_MINUS</th><th>GP_RANK</th><th>W_RANK</th><th>L_RANK</th><th>W_PCT_RANK</th><th>MIN_RANK</th><th>FGM_RANK</th><th>FGA_RANK</th><th>FG_PCT_RANK</th><th>FG3M_RANK</th><th>FG3A_RANK</th><th>FG3_PCT_RANK</th><th>FTM_RANK</th><th>FTA_RANK</th><th>FT_PCT_RANK</th><th>OREB_RANK</th><th>DREB_RANK</th><th>REB_RANK</th><th>AST_RANK</th><th>TOV_RANK</th><th>STL_RANK</th><th>BLK_RANK</th><th>BLKA_RANK</th><th>PF_RANK</th><th>PFD_RANK</th><th>PTS_RANK</th><th>PLUS_MINUS_RANK</th></tr><tr><td>str</td><td>i64</td><td>str</td><td>str</td><td>i64</td><td>str</td><td>str</td><td>i64</td><td>i64</td><td>i64</td><td>f64</td><td>f64</td><td>i64</td><td>i64</td><td>f64</td><td>i64</td><td>i64</td><td>f64</td><td>i64</td><td>i64</td><td>f64</td><td>i64</td><td>i64</td><td>i64</td><td>i64</td><td>f64</td><td>i64</td><td>i64</td><td>i64</td><td>i64</td><td>i64</td><td>i64</td><td>f64</td><td>i64</td><td>i64</td><td>i64</td><td>i64</td><td>i64</td><td>i64</td><td>i64</td><td>i64</td><td>i64</td><td>i64</td><td>i64</td><td>i64</td><td>i64</td><td>i64</td><td>i64</td><td>i64</td><td>i64</td><td>i64</td><td>i64</td><td>i64</td><td>i64</td><td>i64</td><td>i64</td><td>i64</td><td>i64</td><td>i64</td></tr></thead><tbody><tr><td>&quot;On/Off Court&quot;</td><td>1610612741</td><td>&quot;CHI&quot;</td><td>&quot;Chicago Bulls&quot;</td><td>201976</td><td>&quot;Beverley, Patrick&quot;</td><td>&quot;On&quot;</td><td>22</td><td>13</td><td>9</td><td>0.591</td><td>605.385</td><td>516</td><td>1054</td><td>0.49</td><td>127</td><td>366</td><td>0.347</td><td>191</td><td>237</td><td>0.806</td><td>83</td><td>405</td><td>488</td><td>307</td><td>140.0</td><td>94</td><td>62</td><td>42</td><td>220</td><td>223</td><td>1350</td><td>10.0</td><td>13</td><td>12</td><td>6</td><td>3</td><td>11</td><td>11</td><td>11</td><td>12</td><td>11</td><td>11</td><td>13</td><td>11</td><td>11</td><td>9</td><td>12</td><td>11</td><td>11</td><td>11</td><td>7</td><td>11</td><td>12</td><td>7</td><td>8</td><td>11</td><td>11</td><td>14</td></tr><tr><td>&quot;On/Off Court&quot;</td><td>1610612741</td><td>&quot;CHI&quot;</td><td>&quot;Chicago Bulls&quot;</td><td>1628396</td><td>&quot;Bradley, Tony&quot;</td><td>&quot;On&quot;</td><td>12</td><td>5</td><td>7</td><td>0.417</td><td>33.365</td><td>30</td><td>61</td><td>0.492</td><td>12</td><td>28</td><td>0.429</td><td>15</td><td>21</td><td>0.714</td><td>3</td><td>27</td><td>30</td><td>22</td><td>8.0</td><td>5</td><td>4</td><td>2</td><td>11</td><td>14</td><td>87</td><td>11.0</td><td>14</td><td>14</td><td>5</td><td>17</td><td>16</td><td>16</td><td>16</td><td>7</td><td>15</td><td>15</td><td>2</td><td>15</td><td>16</td><td>16</td><td>17</td><td>15</td><td>16</td><td>15</td><td>4</td><td>17</td><td>16</td><td>2</td><td>3</td><td>15</td><td>16</td><td>13</td></tr><tr><td>&quot;On/Off Court&quot;</td><td>1610612741</td><td>&quot;CHI&quot;</td><td>&quot;Chicago Bulls&quot;</td><td>1627936</td><td>&quot;Caruso, Alex&quot;</td><td>&quot;On&quot;</td><td>67</td><td>33</td><td>34</td><td>0.493</td><td>1575.376667</td><td>1379</td><td>2800</td><td>0.493</td><td>338</td><td>940</td><td>0.36</td><td>592</td><td>731</td><td>0.81</td><td>279</td><td>1075</td><td>1354</td><td>790</td><td>438.0</td><td>280</td><td>164</td><td>165</td><td>624</td><td>630</td><td>3688</td><td>199.0</td><td>7</td><td>7</td><td>10</td><td>10</td><td>7</td><td>7</td><td>7</td><td>6</td><td>7</td><td>7</td><td>8</td><td>7</td><td>7</td><td>7</td><td>7</td><td>7</td><td>7</td><td>7</td><td>12</td><td>7</td><td>6</td><td>13</td><td>12</td><td>7</td><td>7</td><td>1</td></tr><tr><td>&quot;On/Off Court&quot;</td><td>1610612741</td><td>&quot;CHI&quot;</td><td>&quot;Chicago Bulls&quot;</td><td>201942</td><td>&quot;DeRozan, DeMar&quot;</td><td>&quot;On&quot;</td><td>74</td><td>37</td><td>37</td><td>0.5</td><td>2681.61</td><td>2356</td><td>4765</td><td>0.494</td><td>544</td><td>1523</td><td>0.357</td><td>995</td><td>1217</td><td>0.818</td><td>431</td><td>1855</td><td>2286</td><td>1331</td><td>698.0</td><td>437</td><td>236</td><td>247</td><td>1064</td><td>1039</td><td>6251</td><td>67.0</td><td>5</td><td>5</td><td>13</td><td>5</td><td>3</td><td>3</td><td>3</td><td>4</td><td>3</td><td>3</td><td>9</td><td>1</td><td>1</td><td>5</td><td>2</td><td>3</td><td>3</td><td>3</td><td>16</td><td>1</td><td>2</td><td>16</td><td>18</td><td>1</td><td>3</td><td>4</td></tr><tr><td>&quot;On/Off Court&quot;</td><td>1610612741</td><td>&quot;CHI&quot;</td><td>&quot;Chicago Bulls&quot;</td><td>1630245</td><td>&quot;Dosunmu, Ayo&quot;</td><td>&quot;On&quot;</td><td>80</td><td>40</td><td>40</td><td>0.5</td><td>2097.616667</td><td>1805</td><td>3751</td><td>0.481</td><td>439</td><td>1232</td><td>0.356</td><td>732</td><td>901</td><td>0.812</td><td>366</td><td>1521</td><td>1887</td><td>1067</td><td>597.0</td><td>330</td><td>188</td><td>220</td><td>799</td><td>754</td><td>4781</td><td>-77.0</td><td>3</td><td>1</td><td>16</td><td>5</td><td>5</td><td>5</td><td>5</td><td>14</td><td>5</td><td>5</td><td>11</td><td>5</td><td>5</td><td>6</td><td>5</td><td>5</td><td>5</td><td>5</td><td>14</td><td>5</td><td>5</td><td>15</td><td>14</td><td>5</td><td>5</td><td>17</td></tr><tr><td>&hellip;</td><td>&hellip;</td><td>&hellip;</td><td>&hellip;</td><td>&hellip;</td><td>&hellip;</td><td>&hellip;</td><td>&hellip;</td><td>&hellip;</td><td>&hellip;</td><td>&hellip;</td><td>&hellip;</td><td>&hellip;</td><td>&hellip;</td><td>&hellip;</td><td>&hellip;</td><td>&hellip;</td><td>&hellip;</td><td>&hellip;</td><td>&hellip;</td><td>&hellip;</td><td>&hellip;</td><td>&hellip;</td><td>&hellip;</td><td>&hellip;</td><td>&hellip;</td><td>&hellip;</td><td>&hellip;</td><td>&hellip;</td><td>&hellip;</td><td>&hellip;</td><td>&hellip;</td><td>&hellip;</td><td>&hellip;</td><td>&hellip;</td><td>&hellip;</td><td>&hellip;</td><td>&hellip;</td><td>&hellip;</td><td>&hellip;</td><td>&hellip;</td><td>&hellip;</td><td>&hellip;</td><td>&hellip;</td><td>&hellip;</td><td>&hellip;</td><td>&hellip;</td><td>&hellip;</td><td>&hellip;</td><td>&hellip;</td><td>&hellip;</td><td>&hellip;</td><td>&hellip;</td><td>&hellip;</td><td>&hellip;</td><td>&hellip;</td><td>&hellip;</td><td>&hellip;</td><td>&hellip;</td></tr><tr><td>&quot;On/Off Court&quot;</td><td>1610612741</td><td>&quot;CHI&quot;</td><td>&quot;Chicago Bulls&quot;</td><td>1630678</td><td>&quot;Taylor, Terry&quot;</td><td>&quot;On&quot;</td><td>5</td><td>4</td><td>1</td><td>0.8</td><td>35.716667</td><td>35</td><td>65</td><td>0.538</td><td>9</td><td>25</td><td>0.36</td><td>14</td><td>22</td><td>0.636</td><td>7</td><td>27</td><td>34</td><td>17</td><td>5.0</td><td>7</td><td>5</td><td>2</td><td>11</td><td>14</td><td>93</td><td>33.0</td><td>17</td><td>15</td><td>1</td><td>1</td><td>15</td><td>15</td><td>15</td><td>2</td><td>16</td><td>16</td><td>7</td><td>16</td><td>15</td><td>18</td><td>15</td><td>15</td><td>15</td><td>16</td><td>3</td><td>16</td><td>15</td><td>2</td><td>3</td><td>15</td><td>15</td><td>6</td></tr><tr><td>&quot;On/Off Court&quot;</td><td>1610612741</td><td>&quot;CHI&quot;</td><td>&quot;Chicago Bulls&quot;</td><td>1631207</td><td>&quot;Terry, Dalen&quot;</td><td>&quot;On&quot;</td><td>38</td><td>19</td><td>19</td><td>0.5</td><td>213.945</td><td>172</td><td>374</td><td>0.46</td><td>43</td><td>130</td><td>0.331</td><td>91</td><td>119</td><td>0.765</td><td>54</td><td>144</td><td>198</td><td>94</td><td>72.0</td><td>39</td><td>24</td><td>30</td><td>82</td><td>95</td><td>478</td><td>12.0</td><td>11</td><td>11</td><td>7</td><td>5</td><td>13</td><td>13</td><td>13</td><td>18</td><td>13</td><td>13</td><td>18</td><td>13</td><td>13</td><td>13</td><td>13</td><td>13</td><td>13</td><td>13</td><td>6</td><td>13</td><td>13</td><td>6</td><td>6</td><td>13</td><td>13</td><td>12</td></tr><tr><td>&quot;On/Off Court&quot;</td><td>1610612741</td><td>&quot;CHI&quot;</td><td>&quot;Chicago Bulls&quot;</td><td>202696</td><td>&quot;Vučević, Nikola&quot;</td><td>&quot;On&quot;</td><td>82</td><td>40</td><td>42</td><td>0.488</td><td>2746.355</td><td>2416</td><td>4868</td><td>0.496</td><td>609</td><td>1667</td><td>0.365</td><td>946</td><td>1145</td><td>0.826</td><td>405</td><td>1930</td><td>2335</td><td>1429</td><td>748.0</td><td>402</td><td>235</td><td>247</td><td>1004</td><td>987</td><td>6387</td><td>-20.0</td><td>1</td><td>1</td><td>17</td><td>11</td><td>2</td><td>2</td><td>2</td><td>3</td><td>2</td><td>2</td><td>5</td><td>3</td><td>3</td><td>2</td><td>3</td><td>2</td><td>2</td><td>1</td><td>17</td><td>3</td><td>3</td><td>16</td><td>16</td><td>3</td><td>2</td><td>16</td></tr><tr><td>&quot;On/Off Court&quot;</td><td>1610612741</td><td>&quot;CHI&quot;</td><td>&quot;Chicago Bulls&quot;</td><td>1629632</td><td>&quot;White, Coby&quot;</td><td>&quot;On&quot;</td><td>74</td><td>37</td><td>37</td><td>0.5</td><td>1730.228333</td><td>1546</td><td>3149</td><td>0.491</td><td>391</td><td>1097</td><td>0.356</td><td>668</td><td>836</td><td>0.799</td><td>351</td><td>1201</td><td>1552</td><td>867</td><td>476.0</td><td>297</td><td>147</td><td>155</td><td>683</td><td>707</td><td>4151</td><td>143.0</td><td>5</td><td>5</td><td>13</td><td>5</td><td>6</td><td>6</td><td>6</td><td>10</td><td>6</td><td>6</td><td>10</td><td>6</td><td>6</td><td>11</td><td>6</td><td>6</td><td>6</td><td>6</td><td>13</td><td>6</td><td>7</td><td>12</td><td>13</td><td>6</td><td>6</td><td>2</td></tr><tr><td>&quot;On/Off Court&quot;</td><td>1610612741</td><td>&quot;CHI&quot;</td><td>&quot;Chicago Bulls&quot;</td><td>1630172</td><td>&quot;Williams, Patrick&quot;</td><td>&quot;On&quot;</td><td>82</td><td>40</td><td>42</td><td>0.488</td><td>2322.841667</td><td>2021</td><td>4125</td><td>0.49</td><td>536</td><td>1393</td><td>0.385</td><td>772</td><td>942</td><td>0.82</td><td>378</td><td>1622</td><td>2000</td><td>1172</td><td>642.0</td><td>361</td><td>219</td><td>217</td><td>910</td><td>822</td><td>5350</td><td>-142.0</td><td>1</td><td>1</td><td>17</td><td>11</td><td>4</td><td>4</td><td>4</td><td>11</td><td>4</td><td>4</td><td>3</td><td>4</td><td>4</td><td>3</td><td>4</td><td>4</td><td>4</td><td>4</td><td>15</td><td>4</td><td>4</td><td>14</td><td>15</td><td>4</td><td>4</td><td>18</td></tr></tbody></table></div>"
      ],
      "text/plain": [
       "shape: (18, 59)\n",
       "┌────────────┬────────────┬────────────┬───────────┬───┬─────────┬──────────┬──────────┬───────────┐\n",
       "│ GROUP_SET  ┆ TEAM_ID    ┆ TEAM_ABBRE ┆ TEAM_NAME ┆ … ┆ PF_RANK ┆ PFD_RANK ┆ PTS_RANK ┆ PLUS_MINU │\n",
       "│ ---        ┆ ---        ┆ VIATION    ┆ ---       ┆   ┆ ---     ┆ ---      ┆ ---      ┆ S_RANK    │\n",
       "│ str        ┆ i64        ┆ ---        ┆ str       ┆   ┆ i64     ┆ i64      ┆ i64      ┆ ---       │\n",
       "│            ┆            ┆ str        ┆           ┆   ┆         ┆          ┆          ┆ i64       │\n",
       "╞════════════╪════════════╪════════════╪═══════════╪═══╪═════════╪══════════╪══════════╪═══════════╡\n",
       "│ On/Off     ┆ 1610612741 ┆ CHI        ┆ Chicago   ┆ … ┆ 8       ┆ 11       ┆ 11       ┆ 14        │\n",
       "│ Court      ┆            ┆            ┆ Bulls     ┆   ┆         ┆          ┆          ┆           │\n",
       "│ On/Off     ┆ 1610612741 ┆ CHI        ┆ Chicago   ┆ … ┆ 3       ┆ 15       ┆ 16       ┆ 13        │\n",
       "│ Court      ┆            ┆            ┆ Bulls     ┆   ┆         ┆          ┆          ┆           │\n",
       "│ On/Off     ┆ 1610612741 ┆ CHI        ┆ Chicago   ┆ … ┆ 12      ┆ 7        ┆ 7        ┆ 1         │\n",
       "│ Court      ┆            ┆            ┆ Bulls     ┆   ┆         ┆          ┆          ┆           │\n",
       "│ On/Off     ┆ 1610612741 ┆ CHI        ┆ Chicago   ┆ … ┆ 18      ┆ 1        ┆ 3        ┆ 4         │\n",
       "│ Court      ┆            ┆            ┆ Bulls     ┆   ┆         ┆          ┆          ┆           │\n",
       "│ On/Off     ┆ 1610612741 ┆ CHI        ┆ Chicago   ┆ … ┆ 14      ┆ 5        ┆ 5        ┆ 17        │\n",
       "│ Court      ┆            ┆            ┆ Bulls     ┆   ┆         ┆          ┆          ┆           │\n",
       "│ …          ┆ …          ┆ …          ┆ …         ┆ … ┆ …       ┆ …        ┆ …        ┆ …         │\n",
       "│ On/Off     ┆ 1610612741 ┆ CHI        ┆ Chicago   ┆ … ┆ 3       ┆ 15       ┆ 15       ┆ 6         │\n",
       "│ Court      ┆            ┆            ┆ Bulls     ┆   ┆         ┆          ┆          ┆           │\n",
       "│ On/Off     ┆ 1610612741 ┆ CHI        ┆ Chicago   ┆ … ┆ 6       ┆ 13       ┆ 13       ┆ 12        │\n",
       "│ Court      ┆            ┆            ┆ Bulls     ┆   ┆         ┆          ┆          ┆           │\n",
       "│ On/Off     ┆ 1610612741 ┆ CHI        ┆ Chicago   ┆ … ┆ 16      ┆ 3        ┆ 2        ┆ 16        │\n",
       "│ Court      ┆            ┆            ┆ Bulls     ┆   ┆         ┆          ┆          ┆           │\n",
       "│ On/Off     ┆ 1610612741 ┆ CHI        ┆ Chicago   ┆ … ┆ 13      ┆ 6        ┆ 6        ┆ 2         │\n",
       "│ Court      ┆            ┆            ┆ Bulls     ┆   ┆         ┆          ┆          ┆           │\n",
       "│ On/Off     ┆ 1610612741 ┆ CHI        ┆ Chicago   ┆ … ┆ 15      ┆ 4        ┆ 4        ┆ 18        │\n",
       "│ Court      ┆            ┆            ┆ Bulls     ┆   ┆         ┆          ┆          ┆           │\n",
       "└────────────┴────────────┴────────────┴───────────┴───┴─────────┴──────────┴──────────┴───────────┘"
      ]
     },
     "execution_count": 207,
     "metadata": {},
     "output_type": "execute_result"
    }
   ],
   "source": [
    "lineup_df"
   ]
  },
  {
   "cell_type": "code",
   "execution_count": null,
   "metadata": {},
   "outputs": [],
   "source": []
  }
 ],
 "metadata": {
  "kernelspec": {
   "display_name": "Python 3",
   "language": "python",
   "name": "python3"
  },
  "language_info": {
   "codemirror_mode": {
    "name": "ipython",
    "version": 3
   },
   "file_extension": ".py",
   "mimetype": "text/x-python",
   "name": "python",
   "nbconvert_exporter": "python",
   "pygments_lexer": "ipython3",
   "version": "3.11.10"
  }
 },
 "nbformat": 4,
 "nbformat_minor": 2
}
